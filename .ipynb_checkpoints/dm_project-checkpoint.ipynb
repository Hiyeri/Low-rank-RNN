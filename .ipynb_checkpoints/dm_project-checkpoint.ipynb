{
 "cells": [
  {
   "cell_type": "markdown",
   "metadata": {},
   "source": [
    "## Decision making in low-rank recurrent neural networks"
   ]
  },
  {
   "cell_type": "code",
   "execution_count": 1,
   "metadata": {},
   "outputs": [
    {
     "data": {
      "text/plain": [
       "<torch.autograd.anomaly_mode.set_detect_anomaly at 0x22b3695a490>"
      ]
     },
     "execution_count": 1,
     "metadata": {},
     "output_type": "execute_result"
    }
   ],
   "source": [
    "import numpy as np\n",
    "import matplotlib.pyplot as plt\n",
    "import pdb\n",
    "import torch\n",
    "import torch.nn as nn\n",
    "\n",
    "#plt.style.use('dark_background')\n",
    "\n",
    "# For debugging we will use the below inside some functions.\n",
    "torch.autograd.set_detect_anomaly(True)\n",
    "        "
   ]
  },
  {
   "cell_type": "markdown",
   "metadata": {},
   "source": [
    "### Perceptual decision makingg"
   ]
  },
  {
   "cell_type": "markdown",
   "metadata": {},
   "source": [
    "__1. Create a function for generating the data.__"
   ]
  },
  {
   "cell_type": "code",
   "execution_count": 2,
   "metadata": {},
   "outputs": [],
   "source": [
    "# defining standard deviation and strength of stimulus\n",
    "strength = 0.032\n",
    "stim_strength = strength * np.hstack((-np.flip(2**np.arange(0,5)), 2**np.arange(0,5)))\n"
   ]
  },
  {
   "cell_type": "code",
   "execution_count": 3,
   "metadata": {},
   "outputs": [],
   "source": [
    "# TODO: check the dimensions needed for the target y.\n",
    "\n",
    "\n",
    "def generate_data(time_length, trials, stim_strength, std = 0.03):\n",
    "    \"\"\"\n",
    "    ksi is a normally distr noise with sigma 0.03.\n",
    "    u is an input\n",
    "    û is the stimulis strength\n",
    "    y is the target, i.e. the sign of û. \n",
    "    y's zeroth dimension is trials. \n",
    "    \"\"\"\n",
    "    ksi = std * np.random.randn(time_length, trials)\n",
    "    \n",
    "  \n",
    "    û_value = np.random.choice(stim_strength, size=trials)\n",
    "    û = np.full_like(ksi, 0)\n",
    "    y = np.full_like(trials, 1)\n",
    "    for i in range(trials):  # vectorize it??\n",
    "        û[5:46, i] = û_value[i]\n",
    "        y = np.sign(û_value)\n",
    "    \n",
    "    return  torch.from_numpy(û + ksi).reshape([time_length, trials, 1, 1]), torch.from_numpy(y)\n"
   ]
  },
  {
   "cell_type": "code",
   "execution_count": 4,
   "metadata": {},
   "outputs": [],
   "source": [
    "# generate data\n",
    "\n",
    "T = 75\n",
    "trials = 8\n",
    "u, y = generate_data(T, trials, stim_strength)\n",
    "time = np.arange(0,T)\n"
   ]
  },
  {
   "cell_type": "code",
   "execution_count": 5,
   "metadata": {},
   "outputs": [
    {
     "data": {
      "text/plain": [
       "tensor(-1., dtype=torch.float64)"
      ]
     },
     "execution_count": 5,
     "metadata": {},
     "output_type": "execute_result"
    }
   ],
   "source": [
    "u.shape, y.shape\n",
    "y[2]"
   ]
  },
  {
   "cell_type": "code",
   "execution_count": 6,
   "metadata": {},
   "outputs": [
    {
     "data": {
      "image/png": "[encoded data removed]",
      "text/plain": [
       "<Figure size 1080x144 with 8 Axes>"
      ]
     },
     "metadata": {
      "needs_background": "light"
     },
     "output_type": "display_data"
    }
   ],
   "source": [
    "# plot\n",
    "\n",
    "fig, axs = plt.subplots(1, trials, figsize=(15,2))\n",
    "\n",
    "fig.suptitle(\"Generate Data\")\n",
    "\n",
    "for i in range(trials):\n",
    "    axs[i].plot(time, u[:, i, 0, 0], label=\"stimulus\")\n",
    "    axs[i].plot(time, y[i]*np.full_like(time,1), label=\"target\")\n",
    "    axs[i].set_title(f\"trial {i}\")\n",
    "    axs[i].set_ylim(-1.2, 1.2)\n",
    "axs[0].set_xlabel(\"time\")\n",
    "axs[0].set_ylabel(\"signal strength\")\n",
    "axs[0].legend()\n",
    "plt.show()"
   ]
  },
  {
   "cell_type": "markdown",
   "metadata": {},
   "source": [
    "__2. Implement the recurrent neural network in your favorite deep learning library.__"
   ]
  },
  {
   "cell_type": "markdown",
   "metadata": {},
   "source": [
    "J matrix has to have two trainable vectors m, and n as parameters."
   ]
  },
  {
   "cell_type": "code",
   "execution_count": 7,
   "metadata": {},
   "outputs": [],
   "source": [
    "# TODO: vectorize input and targets and all into batch of time and trials."
   ]
  },
  {
   "cell_type": "code",
   "execution_count": 8,
   "metadata": {},
   "outputs": [],
   "source": [
    "#Todo: finish refactoring for batch dim, reduce the reshapings.\n",
    "\n",
    "def dynamics(x, u_of_t, tau, m,n,I):\n",
    "    J_of_phi_x = torch.div(torch.matmul(torch.matmul(m, n).float(), torch.tanh(x).float()), len(n))\n",
    "\n",
    "    return (-x + J_of_phi_x + u_of_t*I) / tau  # is broadcasting working for input and in weigths?\n"
   ]
  },
  {
   "cell_type": "code",
   "execution_count": 9,
   "metadata": {},
   "outputs": [
    {
     "data": {
      "text/plain": [
       "(torch.Size([2, 124, 1]), torch.Size([2, 124, 1]))"
      ]
     },
     "execution_count": 9,
     "metadata": {},
     "output_type": "execute_result"
    }
   ],
   "source": [
    "# Test dynamics.\n",
    "x = torch.randn([2,124,1])   # trials, size of the network, and 1 dimension\n",
    "I = torch.randn([124,1])   # size of the network and 1 dimension\n",
    "\n",
    "u, y = generate_data(74, 2, stim_strength) # time, trials, stimulis strength\n",
    "tau = 5\n",
    "\n",
    "\n",
    "m = torch.randn(2, 124, 1)\n",
    "n = torch.randn(2, 1, 124)\n",
    "(u[50]*I).shape, dynamics(x, u[50], tau, m, n, I).shape\n"
   ]
  },
  {
   "cell_type": "code",
   "execution_count": 10,
   "metadata": {},
   "outputs": [],
   "source": [
    "\n",
    "class LR_RNN(nn.Module):\n",
    "    # Low-rank recurrent neural network without readout.\n",
    "    def __init__(self, N):\n",
    "        super().__init__()\n",
    "        \n",
    "        # storign info\n",
    "        self.N = N\n",
    "        \n",
    "        # pattern from witch connectivity is made\n",
    "        tensor_m = torch.randn([N,1])\n",
    "        self.m = nn.Parameter(tensor_m)\n",
    "        \n",
    "        # pattern to which connectivity is made\n",
    "        tensor_n = torch.randn([1,N])\n",
    "        self.n = nn.Parameter(tensor_n)\n",
    "        \n",
    "        # input weights\n",
    "        self.I = torch.randn([N,1])\n",
    "        \n",
    "        # Output is defined separetly in different class below.\n",
    "\n",
    "          \n",
    "    def forward(self, x, u_of_t, tau, dt):\n",
    "        # It's an Euler method.\n",
    "        torch.autograd.set_detect_anomaly(True)\n",
    "        \n",
    "        return x +  dt * dynamics(x, u_of_t, tau, self.m, self.n, self.I)\n",
    "   "
   ]
  },
  {
   "cell_type": "code",
   "execution_count": 11,
   "metadata": {},
   "outputs": [
    {
     "name": "stdout",
     "output_type": "stream",
     "text": [
      "Ratio is  20.0 ms/step, while tau in steps is  5.0  and time increment in dynamics is  1.0\n"
     ]
    }
   ],
   "source": [
    "ratio = 1500/75 #ms/step\n",
    "tau_steps = 100 /ratio #ms/(ms/step)\n",
    "dt = 20 /ratio\n",
    "\n",
    "print(\"Ratio is \", ratio, \"ms/step, while tau in steps is \", tau_steps, \" and time increment in dynamics is \", dt)"
   ]
  },
  {
   "cell_type": "code",
   "execution_count": 12,
   "metadata": {},
   "outputs": [],
   "source": [
    "class Model(nn.Module):\n",
    "    def __init__(self, trials, N):\n",
    "        super().__init__()\n",
    "        # storing info\n",
    "        self.N = N\n",
    "        \n",
    "        # the layer\n",
    "        self.lr_rnn = LR_RNN(N)\n",
    "        \n",
    "        # output layer\n",
    "        std_dev = 4\n",
    "        self.w = std_dev*torch.randn([1, N])\n",
    "        \n",
    "\n",
    "    \n",
    "    def forward(self, x: torch.Tensor, u_of_t, tau, dt):\n",
    "        \n",
    "        \"\"\"\n",
    "        Going forward with the low rank rnn and input.\n",
    "        Reading through electrode weights.\n",
    "        \"\"\"\n",
    "        x_next = self.lr_rnn(x, u_of_t, tau, dt)\n",
    "\n",
    "        torch.autograd.set_detect_anomaly(True)\n",
    "        \n",
    "        z = 1/self.N * torch.matmul(self.w.float(), torch.tanh(x_next).float())\n",
    "        z.squeeze_()\n",
    "        return x_next, z\n",
    "        "
   ]
  },
  {
   "cell_type": "code",
   "execution_count": 13,
   "metadata": {},
   "outputs": [],
   "source": [
    "# TODO: check dimensions for multiplication self.w with tanh(x)"
   ]
  },
  {
   "cell_type": "code",
   "execution_count": 14,
   "metadata": {},
   "outputs": [],
   "source": [
    "# Initialize.\n",
    "\n",
    "N = 128\n",
    "trials = 32    # Mini-batch size, minimum value is 2 (probably because of squeezing and broadcasting).\n",
    "model = Model(trials, N)\n",
    "x = torch.zeros([trials,N,1])\n",
    "\n"
   ]
  },
  {
   "cell_type": "code",
   "execution_count": 15,
   "metadata": {},
   "outputs": [
    {
     "name": "stdout",
     "output_type": "stream",
     "text": [
      "Ratio is  20.0 ms/step, while tau in steps is  5.0  and time increment in dynamics is  1.0\n"
     ]
    }
   ],
   "source": [
    "ratio = 1500/75 #ms/step\n",
    "tau = 100 /ratio #ms/(ms/step)\n",
    "dt = 20 /ratio\n",
    "\n",
    "print(\"Ratio is \", ratio, \"ms/step, while tau in steps is \", tau, \" and time increment in dynamics is \", dt)"
   ]
  },
  {
   "cell_type": "code",
   "execution_count": 16,
   "metadata": {},
   "outputs": [],
   "source": [
    "# Generate the data.\n",
    "\n",
    "T = 75\n",
    "read_onset = 15  # how many last steps are read\n",
    "time = np.arange(0,T)\n"
   ]
  },
  {
   "cell_type": "code",
   "execution_count": null,
   "metadata": {},
   "outputs": [],
   "source": [
    "# TODO: train general network (generate data new for each epoch)"
   ]
  },
  {
   "cell_type": "code",
   "execution_count": null,
   "metadata": {},
   "outputs": [
    {
     "name": "stderr",
     "output_type": "stream",
     "text": [
      "C:\\Users\\Szaibot\\anaconda3\\lib\\site-packages\\torch\\nn\\modules\\loss.py:446: UserWarning: Using a target size (torch.Size([32])) that is different to the input size (torch.Size([15, 32])). This will likely lead to incorrect results due to broadcasting. Please ensure they have the same size.\n",
      "  return F.mse_loss(input, target, reduction=self.reduction)\n"
     ]
    },
    {
     "name": "stdout",
     "output_type": "stream",
     "text": [
      "   0 / 1000 epoch mean error is  ------------   tensor(0.6756, grad_fn=<MseLossBackward>)\n",
      "   1 / 1000 epoch mean error is  ------------   tensor(0.7023, grad_fn=<MseLossBackward>)\n",
      "   2 / 1000 epoch mean error is  ------------   tensor(0.6058, grad_fn=<MseLossBackward>)\n",
      "   3 / 1000 epoch mean error is  ------------   tensor(0.7387, grad_fn=<MseLossBackward>)\n",
      "   4 / 1000 epoch mean error is  ------------   tensor(1.0284, grad_fn=<MseLossBackward>)\n",
      "   5 / 1000 epoch mean error is  ------------   tensor(1.1255, grad_fn=<MseLossBackward>)\n",
      "   6 / 1000 epoch mean error is  ------------   tensor(0.8559, grad_fn=<MseLossBackward>)\n",
      "   7 / 1000 epoch mean error is  ------------   tensor(0.7633, grad_fn=<MseLossBackward>)\n",
      "   8 / 1000 epoch mean error is  ------------   tensor(0.9030, grad_fn=<MseLossBackward>)\n",
      "   9 / 1000 epoch mean error is  ------------   tensor(1.1426, grad_fn=<MseLossBackward>)\n",
      "   10 / 1000 epoch mean error is  ------------   tensor(0.7614, grad_fn=<MseLossBackward>)\n",
      "   11 / 1000 epoch mean error is  ------------   tensor(0.7613, grad_fn=<MseLossBackward>)\n",
      "   12 / 1000 epoch mean error is  ------------   tensor(1.1927, grad_fn=<MseLossBackward>)\n",
      "   13 / 1000 epoch mean error is  ------------   tensor(0.9043, grad_fn=<MseLossBackward>)\n",
      "   14 / 1000 epoch mean error is  ------------   tensor(1.2810, grad_fn=<MseLossBackward>)\n",
      "   15 / 1000 epoch mean error is  ------------   tensor(1.0882, grad_fn=<MseLossBackward>)\n",
      "   16 / 1000 epoch mean error is  ------------   tensor(0.9028, grad_fn=<MseLossBackward>)\n",
      "   17 / 1000 epoch mean error is  ------------   tensor(1.0344, grad_fn=<MseLossBackward>)\n",
      "   18 / 1000 epoch mean error is  ------------   tensor(0.7723, grad_fn=<MseLossBackward>)\n",
      "   19 / 1000 epoch mean error is  ------------   tensor(0.8169, grad_fn=<MseLossBackward>)\n",
      "   20 / 1000 epoch mean error is  ------------   tensor(0.9426, grad_fn=<MseLossBackward>)\n",
      "   21 / 1000 epoch mean error is  ------------   tensor(1.0236, grad_fn=<MseLossBackward>)\n",
      "   22 / 1000 epoch mean error is  ------------   tensor(0.8206, grad_fn=<MseLossBackward>)\n",
      "   23 / 1000 epoch mean error is  ------------   tensor(0.7030, grad_fn=<MseLossBackward>)\n",
      "   24 / 1000 epoch mean error is  ------------   tensor(1.0971, grad_fn=<MseLossBackward>)\n",
      "   25 / 1000 epoch mean error is  ------------   tensor(1.0560, grad_fn=<MseLossBackward>)\n",
      "   26 / 1000 epoch mean error is  ------------   tensor(0.9393, grad_fn=<MseLossBackward>)\n",
      "   27 / 1000 epoch mean error is  ------------   tensor(1.1260, grad_fn=<MseLossBackward>)\n",
      "   28 / 1000 epoch mean error is  ------------   tensor(0.9752, grad_fn=<MseLossBackward>)\n",
      "   29 / 1000 epoch mean error is  ------------   tensor(0.9018, grad_fn=<MseLossBackward>)\n",
      "   30 / 1000 epoch mean error is  ------------   tensor(1.0436, grad_fn=<MseLossBackward>)\n",
      "   31 / 1000 epoch mean error is  ------------   tensor(0.8684, grad_fn=<MseLossBackward>)\n",
      "   32 / 1000 epoch mean error is  ------------   tensor(0.8354, grad_fn=<MseLossBackward>)\n",
      "   33 / 1000 epoch mean error is  ------------   tensor(0.9705, grad_fn=<MseLossBackward>)\n",
      "   34 / 1000 epoch mean error is  ------------   tensor(0.8710, grad_fn=<MseLossBackward>)\n",
      "   35 / 1000 epoch mean error is  ------------   tensor(1.0349, grad_fn=<MseLossBackward>)\n",
      "   36 / 1000 epoch mean error is  ------------   tensor(1.0013, grad_fn=<MseLossBackward>)\n",
      "   37 / 1000 epoch mean error is  ------------   tensor(0.9687, grad_fn=<MseLossBackward>)\n",
      "   38 / 1000 epoch mean error is  ------------   tensor(0.9994, grad_fn=<MseLossBackward>)\n",
      "   39 / 1000 epoch mean error is  ------------   tensor(0.8761, grad_fn=<MseLossBackward>)\n",
      "   40 / 1000 epoch mean error is  ------------   tensor(0.9072, grad_fn=<MseLossBackward>)\n",
      "   41 / 1000 epoch mean error is  ------------   tensor(0.9968, grad_fn=<MseLossBackward>)\n",
      "   42 / 1000 epoch mean error is  ------------   tensor(0.9372, grad_fn=<MseLossBackward>)\n",
      "   43 / 1000 epoch mean error is  ------------   tensor(1.1116, grad_fn=<MseLossBackward>)\n",
      "   44 / 1000 epoch mean error is  ------------   tensor(0.9092, grad_fn=<MseLossBackward>)\n",
      "   45 / 1000 epoch mean error is  ------------   tensor(0.9938, grad_fn=<MseLossBackward>)\n",
      "   46 / 1000 epoch mean error is  ------------   tensor(1.0204, grad_fn=<MseLossBackward>)\n",
      "   47 / 1000 epoch mean error is  ------------   tensor(0.9921, grad_fn=<MseLossBackward>)\n",
      "   48 / 1000 epoch mean error is  ------------   tensor(1.0176, grad_fn=<MseLossBackward>)\n",
      "   49 / 1000 epoch mean error is  ------------   tensor(0.9648, grad_fn=<MseLossBackward>)\n",
      "   50 / 1000 epoch mean error is  ------------   tensor(0.9896, grad_fn=<MseLossBackward>)\n",
      "   51 / 1000 epoch mean error is  ------------   tensor(0.9646, grad_fn=<MseLossBackward>)\n",
      "   52 / 1000 epoch mean error is  ------------   tensor(0.8221, grad_fn=<MseLossBackward>)\n",
      "   53 / 1000 epoch mean error is  ------------   tensor(1.0584, grad_fn=<MseLossBackward>)\n",
      "   54 / 1000 epoch mean error is  ------------   tensor(0.8952, grad_fn=<MseLossBackward>)\n",
      "   55 / 1000 epoch mean error is  ------------   tensor(0.8957, grad_fn=<MseLossBackward>)\n",
      "   56 / 1000 epoch mean error is  ------------   tensor(0.8959, grad_fn=<MseLossBackward>)\n",
      "   57 / 1000 epoch mean error is  ------------   tensor(0.7342, grad_fn=<MseLossBackward>)\n",
      "   58 / 1000 epoch mean error is  ------------   tensor(1.0114, grad_fn=<MseLossBackward>)\n",
      "   59 / 1000 epoch mean error is  ------------   tensor(0.9880, grad_fn=<MseLossBackward>)\n",
      "   60 / 1000 epoch mean error is  ------------   tensor(0.9394, grad_fn=<MseLossBackward>)\n",
      "   61 / 1000 epoch mean error is  ------------   tensor(0.9393, grad_fn=<MseLossBackward>)\n",
      "   62 / 1000 epoch mean error is  ------------   tensor(0.9388, grad_fn=<MseLossBackward>)\n",
      "   63 / 1000 epoch mean error is  ------------   tensor(1.0151, grad_fn=<MseLossBackward>)\n",
      "   64 / 1000 epoch mean error is  ------------   tensor(0.7577, grad_fn=<MseLossBackward>)\n",
      "   65 / 1000 epoch mean error is  ------------   tensor(0.9901, grad_fn=<MseLossBackward>)\n",
      "   66 / 1000 epoch mean error is  ------------   tensor(1.0173, grad_fn=<MseLossBackward>)\n",
      "   67 / 1000 epoch mean error is  ------------   tensor(0.9363, grad_fn=<MseLossBackward>)\n",
      "   68 / 1000 epoch mean error is  ------------   tensor(0.9913, grad_fn=<MseLossBackward>)\n",
      "   69 / 1000 epoch mean error is  ------------   tensor(0.8810, grad_fn=<MseLossBackward>)\n",
      "   70 / 1000 epoch mean error is  ------------   tensor(0.9644, grad_fn=<MseLossBackward>)\n",
      "   71 / 1000 epoch mean error is  ------------   tensor(1.0207, grad_fn=<MseLossBackward>)\n",
      "   72 / 1000 epoch mean error is  ------------   tensor(0.9359, grad_fn=<MseLossBackward>)\n",
      "   73 / 1000 epoch mean error is  ------------   tensor(0.8789, grad_fn=<MseLossBackward>)\n",
      "   74 / 1000 epoch mean error is  ------------   tensor(0.9637, grad_fn=<MseLossBackward>)\n",
      "   75 / 1000 epoch mean error is  ------------   tensor(0.9932, grad_fn=<MseLossBackward>)\n",
      "   76 / 1000 epoch mean error is  ------------   tensor(0.8210, grad_fn=<MseLossBackward>)\n",
      "   77 / 1000 epoch mean error is  ------------   tensor(0.7889, grad_fn=<MseLossBackward>)\n",
      "   78 / 1000 epoch mean error is  ------------   tensor(1.0535, grad_fn=<MseLossBackward>)\n",
      "   79 / 1000 epoch mean error is  ------------   tensor(0.9638, grad_fn=<MseLossBackward>)\n",
      "   80 / 1000 epoch mean error is  ------------   tensor(0.8738, grad_fn=<MseLossBackward>)\n",
      "   81 / 1000 epoch mean error is  ------------   tensor(0.9639, grad_fn=<MseLossBackward>)\n",
      "   82 / 1000 epoch mean error is  ------------   tensor(0.8419, grad_fn=<MseLossBackward>)\n",
      "   83 / 1000 epoch mean error is  ------------   tensor(0.9971, grad_fn=<MseLossBackward>)\n",
      "   84 / 1000 epoch mean error is  ------------   tensor(0.8399, grad_fn=<MseLossBackward>)\n",
      "   85 / 1000 epoch mean error is  ------------   tensor(1.0631, grad_fn=<MseLossBackward>)\n",
      "   86 / 1000 epoch mean error is  ------------   tensor(0.9011, grad_fn=<MseLossBackward>)\n",
      "   87 / 1000 epoch mean error is  ------------   tensor(0.8046, grad_fn=<MseLossBackward>)\n",
      "   88 / 1000 epoch mean error is  ------------   tensor(0.9666, grad_fn=<MseLossBackward>)\n",
      "   89 / 1000 epoch mean error is  ------------   tensor(0.9338, grad_fn=<MseLossBackward>)\n",
      "   90 / 1000 epoch mean error is  ------------   tensor(0.7684, grad_fn=<MseLossBackward>)\n"
     ]
    },
    {
     "name": "stdout",
     "output_type": "stream",
     "text": [
      "   91 / 1000 epoch mean error is  ------------   tensor(0.7994, grad_fn=<MseLossBackward>)\n",
      "   92 / 1000 epoch mean error is  ------------   tensor(1.0035, grad_fn=<MseLossBackward>)\n",
      "   93 / 1000 epoch mean error is  ------------   tensor(0.8286, grad_fn=<MseLossBackward>)\n",
      "   94 / 1000 epoch mean error is  ------------   tensor(1.0446, grad_fn=<MseLossBackward>)\n",
      "   95 / 1000 epoch mean error is  ------------   tensor(0.8985, grad_fn=<MseLossBackward>)\n",
      "   96 / 1000 epoch mean error is  ------------   tensor(0.9360, grad_fn=<MseLossBackward>)\n",
      "   97 / 1000 epoch mean error is  ------------   tensor(1.0456, grad_fn=<MseLossBackward>)\n",
      "   98 / 1000 epoch mean error is  ------------   tensor(0.9708, grad_fn=<MseLossBackward>)\n",
      "   99 / 1000 epoch mean error is  ------------   tensor(0.8625, grad_fn=<MseLossBackward>)\n",
      "   100 / 1000 epoch mean error is  ------------   tensor(1.0049, grad_fn=<MseLossBackward>)\n",
      "   101 / 1000 epoch mean error is  ------------   tensor(0.9676, grad_fn=<MseLossBackward>)\n",
      "   102 / 1000 epoch mean error is  ------------   tensor(1.1687, grad_fn=<MseLossBackward>)\n",
      "   103 / 1000 epoch mean error is  ------------   tensor(0.8035, grad_fn=<MseLossBackward>)\n",
      "   104 / 1000 epoch mean error is  ------------   tensor(0.9623, grad_fn=<MseLossBackward>)\n",
      "   105 / 1000 epoch mean error is  ------------   tensor(0.9624, grad_fn=<MseLossBackward>)\n",
      "   106 / 1000 epoch mean error is  ------------   tensor(0.9331, grad_fn=<MseLossBackward>)\n",
      "   107 / 1000 epoch mean error is  ------------   tensor(0.8504, grad_fn=<MseLossBackward>)\n",
      "   108 / 1000 epoch mean error is  ------------   tensor(0.7670, grad_fn=<MseLossBackward>)\n",
      "   109 / 1000 epoch mean error is  ------------   tensor(0.8784, grad_fn=<MseLossBackward>)\n",
      "   110 / 1000 epoch mean error is  ------------   tensor(1.0499, grad_fn=<MseLossBackward>)\n",
      "   111 / 1000 epoch mean error is  ------------   tensor(0.8765, grad_fn=<MseLossBackward>)\n",
      "   112 / 1000 epoch mean error is  ------------   tensor(0.8749, grad_fn=<MseLossBackward>)\n",
      "   113 / 1000 epoch mean error is  ------------   tensor(0.7857, grad_fn=<MseLossBackward>)\n",
      "   114 / 1000 epoch mean error is  ------------   tensor(0.8098, grad_fn=<MseLossBackward>)\n",
      "   115 / 1000 epoch mean error is  ------------   tensor(0.8330, grad_fn=<MseLossBackward>)\n",
      "   116 / 1000 epoch mean error is  ------------   tensor(0.9308, grad_fn=<MseLossBackward>)\n",
      "   117 / 1000 epoch mean error is  ------------   tensor(0.8972, grad_fn=<MseLossBackward>)\n",
      "   118 / 1000 epoch mean error is  ------------   tensor(0.8972, grad_fn=<MseLossBackward>)\n",
      "   119 / 1000 epoch mean error is  ------------   tensor(1.0135, grad_fn=<MseLossBackward>)\n",
      "   120 / 1000 epoch mean error is  ------------   tensor(1.1331, grad_fn=<MseLossBackward>)\n",
      "   121 / 1000 epoch mean error is  ------------   tensor(0.9749, grad_fn=<MseLossBackward>)\n",
      "   122 / 1000 epoch mean error is  ------------   tensor(0.7429, grad_fn=<MseLossBackward>)\n",
      "   123 / 1000 epoch mean error is  ------------   tensor(0.8981, grad_fn=<MseLossBackward>)\n",
      "   124 / 1000 epoch mean error is  ------------   tensor(1.0135, grad_fn=<MseLossBackward>)\n",
      "   125 / 1000 epoch mean error is  ------------   tensor(1.0129, grad_fn=<MseLossBackward>)\n",
      "   126 / 1000 epoch mean error is  ------------   tensor(0.8591, grad_fn=<MseLossBackward>)\n",
      "   127 / 1000 epoch mean error is  ------------   tensor(1.0097, grad_fn=<MseLossBackward>)\n",
      "   128 / 1000 epoch mean error is  ------------   tensor(1.1917, grad_fn=<MseLossBackward>)\n",
      "   129 / 1000 epoch mean error is  ------------   tensor(0.8607, grad_fn=<MseLossBackward>)\n",
      "   130 / 1000 epoch mean error is  ------------   tensor(0.8643, grad_fn=<MseLossBackward>)\n",
      "   131 / 1000 epoch mean error is  ------------   tensor(0.9953, grad_fn=<MseLossBackward>)\n",
      "   132 / 1000 epoch mean error is  ------------   tensor(0.7773, grad_fn=<MseLossBackward>)\n",
      "   133 / 1000 epoch mean error is  ------------   tensor(0.8106, grad_fn=<MseLossBackward>)\n",
      "   134 / 1000 epoch mean error is  ------------   tensor(0.8697, grad_fn=<MseLossBackward>)\n",
      "   135 / 1000 epoch mean error is  ------------   tensor(0.9617, grad_fn=<MseLossBackward>)\n",
      "   136 / 1000 epoch mean error is  ------------   tensor(0.8692, grad_fn=<MseLossBackward>)\n",
      "   137 / 1000 epoch mean error is  ------------   tensor(0.9298, grad_fn=<MseLossBackward>)\n",
      "   138 / 1000 epoch mean error is  ------------   tensor(0.8988, grad_fn=<MseLossBackward>)\n",
      "   139 / 1000 epoch mean error is  ------------   tensor(0.9929, grad_fn=<MseLossBackward>)\n",
      "   140 / 1000 epoch mean error is  ------------   tensor(0.9961, grad_fn=<MseLossBackward>)\n",
      "   141 / 1000 epoch mean error is  ------------   tensor(0.9285, grad_fn=<MseLossBackward>)\n",
      "   142 / 1000 epoch mean error is  ------------   tensor(0.8668, grad_fn=<MseLossBackward>)\n",
      "   143 / 1000 epoch mean error is  ------------   tensor(0.7724, grad_fn=<MseLossBackward>)\n",
      "   144 / 1000 epoch mean error is  ------------   tensor(0.9283, grad_fn=<MseLossBackward>)\n",
      "   145 / 1000 epoch mean error is  ------------   tensor(1.0270, grad_fn=<MseLossBackward>)\n",
      "   146 / 1000 epoch mean error is  ------------   tensor(0.9597, grad_fn=<MseLossBackward>)\n",
      "   147 / 1000 epoch mean error is  ------------   tensor(0.9291, grad_fn=<MseLossBackward>)\n",
      "   148 / 1000 epoch mean error is  ------------   tensor(1.0564, grad_fn=<MseLossBackward>)\n",
      "   149 / 1000 epoch mean error is  ------------   tensor(0.9274, grad_fn=<MseLossBackward>)\n",
      "   150 / 1000 epoch mean error is  ------------   tensor(0.8664, grad_fn=<MseLossBackward>)\n",
      "   151 / 1000 epoch mean error is  ------------   tensor(0.9264, grad_fn=<MseLossBackward>)\n",
      "   152 / 1000 epoch mean error is  ------------   tensor(0.8095, grad_fn=<MseLossBackward>)\n",
      "   153 / 1000 epoch mean error is  ------------   tensor(0.9300, grad_fn=<MseLossBackward>)\n",
      "   154 / 1000 epoch mean error is  ------------   tensor(0.8375, grad_fn=<MseLossBackward>)\n",
      "   155 / 1000 epoch mean error is  ------------   tensor(1.0218, grad_fn=<MseLossBackward>)\n",
      "   156 / 1000 epoch mean error is  ------------   tensor(0.8603, grad_fn=<MseLossBackward>)\n",
      "   157 / 1000 epoch mean error is  ------------   tensor(0.6672, grad_fn=<MseLossBackward>)\n",
      "   158 / 1000 epoch mean error is  ------------   tensor(1.0271, grad_fn=<MseLossBackward>)\n",
      "   159 / 1000 epoch mean error is  ------------   tensor(0.8546, grad_fn=<MseLossBackward>)\n",
      "   160 / 1000 epoch mean error is  ------------   tensor(0.9638, grad_fn=<MseLossBackward>)\n",
      "   161 / 1000 epoch mean error is  ------------   tensor(0.8136, grad_fn=<MseLossBackward>)\n",
      "   162 / 1000 epoch mean error is  ------------   tensor(1.1993, grad_fn=<MseLossBackward>)\n",
      "   163 / 1000 epoch mean error is  ------------   tensor(1.0344, grad_fn=<MseLossBackward>)\n",
      "   164 / 1000 epoch mean error is  ------------   tensor(0.8170, grad_fn=<MseLossBackward>)\n",
      "   165 / 1000 epoch mean error is  ------------   tensor(0.7147, grad_fn=<MseLossBackward>)\n",
      "   166 / 1000 epoch mean error is  ------------   tensor(0.9504, grad_fn=<MseLossBackward>)\n",
      "   167 / 1000 epoch mean error is  ------------   tensor(0.7232, grad_fn=<MseLossBackward>)\n",
      "   168 / 1000 epoch mean error is  ------------   tensor(0.7822, grad_fn=<MseLossBackward>)\n",
      "   169 / 1000 epoch mean error is  ------------   tensor(0.9540, grad_fn=<MseLossBackward>)\n",
      "   170 / 1000 epoch mean error is  ------------   tensor(0.8100, grad_fn=<MseLossBackward>)\n",
      "   171 / 1000 epoch mean error is  ------------   tensor(0.8844, grad_fn=<MseLossBackward>)\n",
      "   172 / 1000 epoch mean error is  ------------   tensor(0.6503, grad_fn=<MseLossBackward>)\n",
      "   173 / 1000 epoch mean error is  ------------   tensor(0.9725, grad_fn=<MseLossBackward>)\n",
      "   174 / 1000 epoch mean error is  ------------   tensor(0.7253, grad_fn=<MseLossBackward>)\n",
      "   175 / 1000 epoch mean error is  ------------   tensor(0.9762, grad_fn=<MseLossBackward>)\n",
      "   176 / 1000 epoch mean error is  ------------   tensor(0.7147, grad_fn=<MseLossBackward>)\n",
      "   177 / 1000 epoch mean error is  ------------   tensor(0.8962, grad_fn=<MseLossBackward>)\n",
      "   178 / 1000 epoch mean error is  ------------   tensor(0.7522, grad_fn=<MseLossBackward>)\n",
      "   179 / 1000 epoch mean error is  ------------   tensor(0.7531, grad_fn=<MseLossBackward>)\n",
      "   180 / 1000 epoch mean error is  ------------   tensor(0.6568, grad_fn=<MseLossBackward>)\n"
     ]
    },
    {
     "name": "stdout",
     "output_type": "stream",
     "text": [
      "   181 / 1000 epoch mean error is  ------------   tensor(0.8450, grad_fn=<MseLossBackward>)\n",
      "   182 / 1000 epoch mean error is  ------------   tensor(0.7028, grad_fn=<MseLossBackward>)\n",
      "   183 / 1000 epoch mean error is  ------------   tensor(0.6491, grad_fn=<MseLossBackward>)\n",
      "   184 / 1000 epoch mean error is  ------------   tensor(0.6948, grad_fn=<MseLossBackward>)\n",
      "   185 / 1000 epoch mean error is  ------------   tensor(1.0514, grad_fn=<MseLossBackward>)\n",
      "   186 / 1000 epoch mean error is  ------------   tensor(0.7452, grad_fn=<MseLossBackward>)\n",
      "   187 / 1000 epoch mean error is  ------------   tensor(0.8473, grad_fn=<MseLossBackward>)\n",
      "   188 / 1000 epoch mean error is  ------------   tensor(0.8933, grad_fn=<MseLossBackward>)\n",
      "   189 / 1000 epoch mean error is  ------------   tensor(0.8715, grad_fn=<MseLossBackward>)\n",
      "   190 / 1000 epoch mean error is  ------------   tensor(0.8080, grad_fn=<MseLossBackward>)\n",
      "   191 / 1000 epoch mean error is  ------------   tensor(0.8594, grad_fn=<MseLossBackward>)\n",
      "   192 / 1000 epoch mean error is  ------------   tensor(0.9325, grad_fn=<MseLossBackward>)\n",
      "   193 / 1000 epoch mean error is  ------------   tensor(0.8287, grad_fn=<MseLossBackward>)\n",
      "   194 / 1000 epoch mean error is  ------------   tensor(0.8825, grad_fn=<MseLossBackward>)\n",
      "   195 / 1000 epoch mean error is  ------------   tensor(0.7776, grad_fn=<MseLossBackward>)\n",
      "   196 / 1000 epoch mean error is  ------------   tensor(0.7041, grad_fn=<MseLossBackward>)\n",
      "   197 / 1000 epoch mean error is  ------------   tensor(0.9202, grad_fn=<MseLossBackward>)\n",
      "   198 / 1000 epoch mean error is  ------------   tensor(0.8051, grad_fn=<MseLossBackward>)\n",
      "   199 / 1000 epoch mean error is  ------------   tensor(0.7950, grad_fn=<MseLossBackward>)\n",
      "   200 / 1000 epoch mean error is  ------------   tensor(0.8660, grad_fn=<MseLossBackward>)\n",
      "   201 / 1000 epoch mean error is  ------------   tensor(0.6951, grad_fn=<MseLossBackward>)\n",
      "   202 / 1000 epoch mean error is  ------------   tensor(0.6200, grad_fn=<MseLossBackward>)\n",
      "   203 / 1000 epoch mean error is  ------------   tensor(0.7167, grad_fn=<MseLossBackward>)\n",
      "   204 / 1000 epoch mean error is  ------------   tensor(0.7241, grad_fn=<MseLossBackward>)\n",
      "   205 / 1000 epoch mean error is  ------------   tensor(0.5322, grad_fn=<MseLossBackward>)\n",
      "   206 / 1000 epoch mean error is  ------------   tensor(0.5086, grad_fn=<MseLossBackward>)\n",
      "   207 / 1000 epoch mean error is  ------------   tensor(0.4853, grad_fn=<MseLossBackward>)\n",
      "   208 / 1000 epoch mean error is  ------------   tensor(0.3830, grad_fn=<MseLossBackward>)\n",
      "   209 / 1000 epoch mean error is  ------------   tensor(0.5231, grad_fn=<MseLossBackward>)\n",
      "   210 / 1000 epoch mean error is  ------------   tensor(0.4295, grad_fn=<MseLossBackward>)\n",
      "   211 / 1000 epoch mean error is  ------------   tensor(0.3151, grad_fn=<MseLossBackward>)\n",
      "   212 / 1000 epoch mean error is  ------------   tensor(0.2372, grad_fn=<MseLossBackward>)\n",
      "   213 / 1000 epoch mean error is  ------------   tensor(0.2309, grad_fn=<MseLossBackward>)\n",
      "   214 / 1000 epoch mean error is  ------------   tensor(0.2637, grad_fn=<MseLossBackward>)\n",
      "   215 / 1000 epoch mean error is  ------------   tensor(0.2291, grad_fn=<MseLossBackward>)\n",
      "   216 / 1000 epoch mean error is  ------------   tensor(0.2063, grad_fn=<MseLossBackward>)\n",
      "   217 / 1000 epoch mean error is  ------------   tensor(0.2433, grad_fn=<MseLossBackward>)\n",
      "   218 / 1000 epoch mean error is  ------------   tensor(0.2112, grad_fn=<MseLossBackward>)\n",
      "   219 / 1000 epoch mean error is  ------------   tensor(0.2063, grad_fn=<MseLossBackward>)\n",
      "   220 / 1000 epoch mean error is  ------------   tensor(0.2096, grad_fn=<MseLossBackward>)\n",
      "   221 / 1000 epoch mean error is  ------------   tensor(0.1662, grad_fn=<MseLossBackward>)\n",
      "   222 / 1000 epoch mean error is  ------------   tensor(0.1100, grad_fn=<MseLossBackward>)\n",
      "   223 / 1000 epoch mean error is  ------------   tensor(0.1051, grad_fn=<MseLossBackward>)\n",
      "   224 / 1000 epoch mean error is  ------------   tensor(0.1395, grad_fn=<MseLossBackward>)\n",
      "   225 / 1000 epoch mean error is  ------------   tensor(0.1036, grad_fn=<MseLossBackward>)\n",
      "   226 / 1000 epoch mean error is  ------------   tensor(0.1486, grad_fn=<MseLossBackward>)\n",
      "   227 / 1000 epoch mean error is  ------------   tensor(0.1015, grad_fn=<MseLossBackward>)\n",
      "   228 / 1000 epoch mean error is  ------------   tensor(0.1013, grad_fn=<MseLossBackward>)\n",
      "   229 / 1000 epoch mean error is  ------------   tensor(0.1196, grad_fn=<MseLossBackward>)\n",
      "   230 / 1000 epoch mean error is  ------------   tensor(0.1007, grad_fn=<MseLossBackward>)\n",
      "   231 / 1000 epoch mean error is  ------------   tensor(0.1005, grad_fn=<MseLossBackward>)\n",
      "   232 / 1000 epoch mean error is  ------------   tensor(0.1206, grad_fn=<MseLossBackward>)\n",
      "   233 / 1000 epoch mean error is  ------------   tensor(0.1004, grad_fn=<MseLossBackward>)\n",
      "   234 / 1000 epoch mean error is  ------------   tensor(0.1195, grad_fn=<MseLossBackward>)\n",
      "   235 / 1000 epoch mean error is  ------------   tensor(0.1003, grad_fn=<MseLossBackward>)\n",
      "   236 / 1000 epoch mean error is  ------------   tensor(0.1009, grad_fn=<MseLossBackward>)\n",
      "   237 / 1000 epoch mean error is  ------------   tensor(0.1187, grad_fn=<MseLossBackward>)\n",
      "   238 / 1000 epoch mean error is  ------------   tensor(0.0996, grad_fn=<MseLossBackward>)\n",
      "   239 / 1000 epoch mean error is  ------------   tensor(0.1388, grad_fn=<MseLossBackward>)\n",
      "   240 / 1000 epoch mean error is  ------------   tensor(0.1758, grad_fn=<MseLossBackward>)\n",
      "   241 / 1000 epoch mean error is  ------------   tensor(0.1168, grad_fn=<MseLossBackward>)\n",
      "   242 / 1000 epoch mean error is  ------------   tensor(0.0994, grad_fn=<MseLossBackward>)\n",
      "   243 / 1000 epoch mean error is  ------------   tensor(0.1408, grad_fn=<MseLossBackward>)\n",
      "   244 / 1000 epoch mean error is  ------------   tensor(0.1338, grad_fn=<MseLossBackward>)\n",
      "   245 / 1000 epoch mean error is  ------------   tensor(0.0992, grad_fn=<MseLossBackward>)\n",
      "   246 / 1000 epoch mean error is  ------------   tensor(0.0997, grad_fn=<MseLossBackward>)\n",
      "   247 / 1000 epoch mean error is  ------------   tensor(0.1824, grad_fn=<MseLossBackward>)\n",
      "   248 / 1000 epoch mean error is  ------------   tensor(0.2204, grad_fn=<MseLossBackward>)\n",
      "   249 / 1000 epoch mean error is  ------------   tensor(0.1578, grad_fn=<MseLossBackward>)\n",
      "   250 / 1000 epoch mean error is  ------------   tensor(0.1352, grad_fn=<MseLossBackward>)\n",
      "   251 / 1000 epoch mean error is  ------------   tensor(0.1174, grad_fn=<MseLossBackward>)\n",
      "   252 / 1000 epoch mean error is  ------------   tensor(0.1567, grad_fn=<MseLossBackward>)\n",
      "   253 / 1000 epoch mean error is  ------------   tensor(0.1556, grad_fn=<MseLossBackward>)\n",
      "   254 / 1000 epoch mean error is  ------------   tensor(0.1747, grad_fn=<MseLossBackward>)\n",
      "   255 / 1000 epoch mean error is  ------------   tensor(0.1569, grad_fn=<MseLossBackward>)\n",
      "   256 / 1000 epoch mean error is  ------------   tensor(0.1218, grad_fn=<MseLossBackward>)\n",
      "   257 / 1000 epoch mean error is  ------------   tensor(0.0989, grad_fn=<MseLossBackward>)\n",
      "   258 / 1000 epoch mean error is  ------------   tensor(0.0991, grad_fn=<MseLossBackward>)\n",
      "   259 / 1000 epoch mean error is  ------------   tensor(0.1403, grad_fn=<MseLossBackward>)\n",
      "   260 / 1000 epoch mean error is  ------------   tensor(0.1977, grad_fn=<MseLossBackward>)\n",
      "   261 / 1000 epoch mean error is  ------------   tensor(0.2218, grad_fn=<MseLossBackward>)\n",
      "   262 / 1000 epoch mean error is  ------------   tensor(0.1389, grad_fn=<MseLossBackward>)\n",
      "   263 / 1000 epoch mean error is  ------------   tensor(0.0988, grad_fn=<MseLossBackward>)\n",
      "   264 / 1000 epoch mean error is  ------------   tensor(0.1381, grad_fn=<MseLossBackward>)\n",
      "   265 / 1000 epoch mean error is  ------------   tensor(0.1749, grad_fn=<MseLossBackward>)\n",
      "   266 / 1000 epoch mean error is  ------------   tensor(0.1367, grad_fn=<MseLossBackward>)\n",
      "   267 / 1000 epoch mean error is  ------------   tensor(0.0986, grad_fn=<MseLossBackward>)\n",
      "   268 / 1000 epoch mean error is  ------------   tensor(0.1545, grad_fn=<MseLossBackward>)\n",
      "   269 / 1000 epoch mean error is  ------------   tensor(0.1163, grad_fn=<MseLossBackward>)\n",
      "   270 / 1000 epoch mean error is  ------------   tensor(0.1737, grad_fn=<MseLossBackward>)\n"
     ]
    },
    {
     "name": "stdout",
     "output_type": "stream",
     "text": [
      "   271 / 1000 epoch mean error is  ------------   tensor(0.1146, grad_fn=<MseLossBackward>)\n",
      "   272 / 1000 epoch mean error is  ------------   tensor(0.1820, grad_fn=<MseLossBackward>)\n",
      "   273 / 1000 epoch mean error is  ------------   tensor(0.1824, grad_fn=<MseLossBackward>)\n",
      "   274 / 1000 epoch mean error is  ------------   tensor(0.1390, grad_fn=<MseLossBackward>)\n",
      "   275 / 1000 epoch mean error is  ------------   tensor(0.2192, grad_fn=<MseLossBackward>)\n",
      "   276 / 1000 epoch mean error is  ------------   tensor(0.0960, grad_fn=<MseLossBackward>)\n",
      "   277 / 1000 epoch mean error is  ------------   tensor(0.2244, grad_fn=<MseLossBackward>)\n",
      "   278 / 1000 epoch mean error is  ------------   tensor(0.1694, grad_fn=<MseLossBackward>)\n",
      "   279 / 1000 epoch mean error is  ------------   tensor(0.1351, grad_fn=<MseLossBackward>)\n",
      "   280 / 1000 epoch mean error is  ------------   tensor(0.1910, grad_fn=<MseLossBackward>)\n",
      "   281 / 1000 epoch mean error is  ------------   tensor(0.1638, grad_fn=<MseLossBackward>)\n",
      "   282 / 1000 epoch mean error is  ------------   tensor(0.1785, grad_fn=<MseLossBackward>)\n",
      "   283 / 1000 epoch mean error is  ------------   tensor(0.2207, grad_fn=<MseLossBackward>)\n",
      "   284 / 1000 epoch mean error is  ------------   tensor(0.1965, grad_fn=<MseLossBackward>)\n",
      "   285 / 1000 epoch mean error is  ------------   tensor(0.2207, grad_fn=<MseLossBackward>)\n",
      "   286 / 1000 epoch mean error is  ------------   tensor(0.1527, grad_fn=<MseLossBackward>)\n",
      "   287 / 1000 epoch mean error is  ------------   tensor(0.1495, grad_fn=<MseLossBackward>)\n",
      "   288 / 1000 epoch mean error is  ------------   tensor(0.1674, grad_fn=<MseLossBackward>)\n",
      "   289 / 1000 epoch mean error is  ------------   tensor(0.2603, grad_fn=<MseLossBackward>)\n",
      "   290 / 1000 epoch mean error is  ------------   tensor(0.2073, grad_fn=<MseLossBackward>)\n",
      "   291 / 1000 epoch mean error is  ------------   tensor(0.1349, grad_fn=<MseLossBackward>)\n",
      "   292 / 1000 epoch mean error is  ------------   tensor(0.1350, grad_fn=<MseLossBackward>)\n",
      "   293 / 1000 epoch mean error is  ------------   tensor(0.2196, grad_fn=<MseLossBackward>)\n",
      "   294 / 1000 epoch mean error is  ------------   tensor(0.2243, grad_fn=<MseLossBackward>)\n",
      "   295 / 1000 epoch mean error is  ------------   tensor(0.1939, grad_fn=<MseLossBackward>)\n",
      "   296 / 1000 epoch mean error is  ------------   tensor(0.2232, grad_fn=<MseLossBackward>)\n",
      "   297 / 1000 epoch mean error is  ------------   tensor(0.2934, grad_fn=<MseLossBackward>)\n",
      "   298 / 1000 epoch mean error is  ------------   tensor(0.1995, grad_fn=<MseLossBackward>)\n",
      "   299 / 1000 epoch mean error is  ------------   tensor(0.2839, grad_fn=<MseLossBackward>)\n",
      "   300 / 1000 epoch mean error is  ------------   tensor(0.3625, grad_fn=<MseLossBackward>)\n",
      "   301 / 1000 epoch mean error is  ------------   tensor(0.2488, grad_fn=<MseLossBackward>)\n",
      "   302 / 1000 epoch mean error is  ------------   tensor(0.3103, grad_fn=<MseLossBackward>)\n",
      "   303 / 1000 epoch mean error is  ------------   tensor(0.2225, grad_fn=<MseLossBackward>)\n",
      "   304 / 1000 epoch mean error is  ------------   tensor(0.3761, grad_fn=<MseLossBackward>)\n",
      "   305 / 1000 epoch mean error is  ------------   tensor(0.2724, grad_fn=<MseLossBackward>)\n",
      "   306 / 1000 epoch mean error is  ------------   tensor(0.3459, grad_fn=<MseLossBackward>)\n",
      "   307 / 1000 epoch mean error is  ------------   tensor(0.2722, grad_fn=<MseLossBackward>)\n",
      "   308 / 1000 epoch mean error is  ------------   tensor(0.2671, grad_fn=<MseLossBackward>)\n",
      "   309 / 1000 epoch mean error is  ------------   tensor(0.2820, grad_fn=<MseLossBackward>)\n",
      "   310 / 1000 epoch mean error is  ------------   tensor(0.2092, grad_fn=<MseLossBackward>)\n",
      "   311 / 1000 epoch mean error is  ------------   tensor(0.2583, grad_fn=<MseLossBackward>)\n",
      "   312 / 1000 epoch mean error is  ------------   tensor(0.2584, grad_fn=<MseLossBackward>)\n",
      "   313 / 1000 epoch mean error is  ------------   tensor(0.2911, grad_fn=<MseLossBackward>)\n",
      "   314 / 1000 epoch mean error is  ------------   tensor(0.3443, grad_fn=<MseLossBackward>)\n",
      "   315 / 1000 epoch mean error is  ------------   tensor(0.1505, grad_fn=<MseLossBackward>)\n",
      "   316 / 1000 epoch mean error is  ------------   tensor(0.2839, grad_fn=<MseLossBackward>)\n",
      "   317 / 1000 epoch mean error is  ------------   tensor(0.2960, grad_fn=<MseLossBackward>)\n",
      "   318 / 1000 epoch mean error is  ------------   tensor(0.2717, grad_fn=<MseLossBackward>)\n",
      "   319 / 1000 epoch mean error is  ------------   tensor(0.1653, grad_fn=<MseLossBackward>)\n",
      "   320 / 1000 epoch mean error is  ------------   tensor(0.4304, grad_fn=<MseLossBackward>)\n",
      "   321 / 1000 epoch mean error is  ------------   tensor(0.1623, grad_fn=<MseLossBackward>)\n",
      "   322 / 1000 epoch mean error is  ------------   tensor(0.2709, grad_fn=<MseLossBackward>)\n",
      "   323 / 1000 epoch mean error is  ------------   tensor(0.3490, grad_fn=<MseLossBackward>)\n",
      "   324 / 1000 epoch mean error is  ------------   tensor(0.2527, grad_fn=<MseLossBackward>)\n",
      "   325 / 1000 epoch mean error is  ------------   tensor(0.3134, grad_fn=<MseLossBackward>)\n",
      "   326 / 1000 epoch mean error is  ------------   tensor(0.2462, grad_fn=<MseLossBackward>)\n",
      "   327 / 1000 epoch mean error is  ------------   tensor(0.2700, grad_fn=<MseLossBackward>)\n",
      "   328 / 1000 epoch mean error is  ------------   tensor(0.1004, grad_fn=<MseLossBackward>)\n",
      "   329 / 1000 epoch mean error is  ------------   tensor(0.2006, grad_fn=<MseLossBackward>)\n",
      "   330 / 1000 epoch mean error is  ------------   tensor(0.2454, grad_fn=<MseLossBackward>)\n",
      "   331 / 1000 epoch mean error is  ------------   tensor(0.3393, grad_fn=<MseLossBackward>)\n",
      "   332 / 1000 epoch mean error is  ------------   tensor(0.2256, grad_fn=<MseLossBackward>)\n",
      "   333 / 1000 epoch mean error is  ------------   tensor(0.2085, grad_fn=<MseLossBackward>)\n",
      "   334 / 1000 epoch mean error is  ------------   tensor(0.1837, grad_fn=<MseLossBackward>)\n",
      "   335 / 1000 epoch mean error is  ------------   tensor(0.1052, grad_fn=<MseLossBackward>)\n",
      "   336 / 1000 epoch mean error is  ------------   tensor(0.2962, grad_fn=<MseLossBackward>)\n",
      "   337 / 1000 epoch mean error is  ------------   tensor(0.1658, grad_fn=<MseLossBackward>)\n",
      "   338 / 1000 epoch mean error is  ------------   tensor(0.2003, grad_fn=<MseLossBackward>)\n",
      "   339 / 1000 epoch mean error is  ------------   tensor(0.1846, grad_fn=<MseLossBackward>)\n",
      "   340 / 1000 epoch mean error is  ------------   tensor(0.2264, grad_fn=<MseLossBackward>)\n",
      "   341 / 1000 epoch mean error is  ------------   tensor(0.1649, grad_fn=<MseLossBackward>)\n",
      "   342 / 1000 epoch mean error is  ------------   tensor(0.2094, grad_fn=<MseLossBackward>)\n",
      "   343 / 1000 epoch mean error is  ------------   tensor(0.2315, grad_fn=<MseLossBackward>)\n",
      "   344 / 1000 epoch mean error is  ------------   tensor(0.2379, grad_fn=<MseLossBackward>)\n",
      "   345 / 1000 epoch mean error is  ------------   tensor(0.1645, grad_fn=<MseLossBackward>)\n",
      "   346 / 1000 epoch mean error is  ------------   tensor(0.1280, grad_fn=<MseLossBackward>)\n",
      "   347 / 1000 epoch mean error is  ------------   tensor(0.1702, grad_fn=<MseLossBackward>)\n",
      "   348 / 1000 epoch mean error is  ------------   tensor(0.2669, grad_fn=<MseLossBackward>)\n",
      "   349 / 1000 epoch mean error is  ------------   tensor(0.2291, grad_fn=<MseLossBackward>)\n",
      "   350 / 1000 epoch mean error is  ------------   tensor(0.2467, grad_fn=<MseLossBackward>)\n",
      "   351 / 1000 epoch mean error is  ------------   tensor(0.1463, grad_fn=<MseLossBackward>)\n",
      "   352 / 1000 epoch mean error is  ------------   tensor(0.2460, grad_fn=<MseLossBackward>)\n",
      "   353 / 1000 epoch mean error is  ------------   tensor(0.3390, grad_fn=<MseLossBackward>)\n",
      "   354 / 1000 epoch mean error is  ------------   tensor(0.2026, grad_fn=<MseLossBackward>)\n",
      "   355 / 1000 epoch mean error is  ------------   tensor(0.1818, grad_fn=<MseLossBackward>)\n",
      "   356 / 1000 epoch mean error is  ------------   tensor(0.1934, grad_fn=<MseLossBackward>)\n",
      "   357 / 1000 epoch mean error is  ------------   tensor(0.1713, grad_fn=<MseLossBackward>)\n",
      "   358 / 1000 epoch mean error is  ------------   tensor(0.1531, grad_fn=<MseLossBackward>)\n",
      "   359 / 1000 epoch mean error is  ------------   tensor(0.2125, grad_fn=<MseLossBackward>)\n",
      "   360 / 1000 epoch mean error is  ------------   tensor(0.1521, grad_fn=<MseLossBackward>)\n"
     ]
    },
    {
     "name": "stdout",
     "output_type": "stream",
     "text": [
      "   361 / 1000 epoch mean error is  ------------   tensor(0.3149, grad_fn=<MseLossBackward>)\n",
      "   362 / 1000 epoch mean error is  ------------   tensor(0.2205, grad_fn=<MseLossBackward>)\n",
      "   363 / 1000 epoch mean error is  ------------   tensor(0.2612, grad_fn=<MseLossBackward>)\n",
      "   364 / 1000 epoch mean error is  ------------   tensor(0.2654, grad_fn=<MseLossBackward>)\n",
      "   365 / 1000 epoch mean error is  ------------   tensor(0.1869, grad_fn=<MseLossBackward>)\n",
      "   366 / 1000 epoch mean error is  ------------   tensor(0.2255, grad_fn=<MseLossBackward>)\n",
      "   367 / 1000 epoch mean error is  ------------   tensor(0.1993, grad_fn=<MseLossBackward>)\n",
      "   368 / 1000 epoch mean error is  ------------   tensor(0.1689, grad_fn=<MseLossBackward>)\n",
      "   369 / 1000 epoch mean error is  ------------   tensor(0.3380, grad_fn=<MseLossBackward>)\n",
      "   370 / 1000 epoch mean error is  ------------   tensor(0.2243, grad_fn=<MseLossBackward>)\n",
      "   371 / 1000 epoch mean error is  ------------   tensor(0.2754, grad_fn=<MseLossBackward>)\n",
      "   372 / 1000 epoch mean error is  ------------   tensor(0.2436, grad_fn=<MseLossBackward>)\n",
      "   373 / 1000 epoch mean error is  ------------   tensor(0.1411, grad_fn=<MseLossBackward>)\n",
      "   374 / 1000 epoch mean error is  ------------   tensor(0.1264, grad_fn=<MseLossBackward>)\n",
      "   375 / 1000 epoch mean error is  ------------   tensor(0.1602, grad_fn=<MseLossBackward>)\n",
      "   376 / 1000 epoch mean error is  ------------   tensor(0.2289, grad_fn=<MseLossBackward>)\n",
      "   377 / 1000 epoch mean error is  ------------   tensor(0.2115, grad_fn=<MseLossBackward>)\n",
      "   378 / 1000 epoch mean error is  ------------   tensor(0.0664, grad_fn=<MseLossBackward>)\n",
      "   379 / 1000 epoch mean error is  ------------   tensor(0.0663, grad_fn=<MseLossBackward>)\n",
      "   380 / 1000 epoch mean error is  ------------   tensor(0.1511, grad_fn=<MseLossBackward>)\n",
      "   381 / 1000 epoch mean error is  ------------   tensor(0.3142, grad_fn=<MseLossBackward>)\n",
      "   382 / 1000 epoch mean error is  ------------   tensor(0.1834, grad_fn=<MseLossBackward>)\n",
      "   383 / 1000 epoch mean error is  ------------   tensor(0.1799, grad_fn=<MseLossBackward>)\n",
      "   384 / 1000 epoch mean error is  ------------   tensor(0.2249, grad_fn=<MseLossBackward>)\n",
      "   385 / 1000 epoch mean error is  ------------   tensor(0.3254, grad_fn=<MseLossBackward>)\n",
      "   386 / 1000 epoch mean error is  ------------   tensor(0.1229, grad_fn=<MseLossBackward>)\n",
      "   387 / 1000 epoch mean error is  ------------   tensor(0.2101, grad_fn=<MseLossBackward>)\n",
      "   388 / 1000 epoch mean error is  ------------   tensor(0.2334, grad_fn=<MseLossBackward>)\n",
      "   389 / 1000 epoch mean error is  ------------   tensor(0.2199, grad_fn=<MseLossBackward>)\n",
      "   390 / 1000 epoch mean error is  ------------   tensor(0.1454, grad_fn=<MseLossBackward>)\n",
      "   391 / 1000 epoch mean error is  ------------   tensor(0.1639, grad_fn=<MseLossBackward>)\n",
      "   392 / 1000 epoch mean error is  ------------   tensor(0.1211, grad_fn=<MseLossBackward>)\n",
      "   393 / 1000 epoch mean error is  ------------   tensor(0.1083, grad_fn=<MseLossBackward>)\n"
     ]
    }
   ],
   "source": [
    "\"\"\"\n",
    "Training:\n",
    "\n",
    "From the readout onset the network is unrolled \n",
    "\n",
    "and the backpropagation goes back in time until the beginning of the readout.\n",
    "\n",
    "Backprop is called after computing the error on the whole batch.\n",
    "\n",
    "\n",
    "\"\"\"\n",
    "\n",
    "epochs = 1000\n",
    "\n",
    "mse_loss = nn.MSELoss(reduction='mean')\n",
    "optimizer = torch.optim.Adam(model.parameters(), lr = 0.005)\n",
    "losses_record = []\n",
    "\n",
    "for epoch in range(epochs):\n",
    "\n",
    "\n",
    "        \n",
    "        x = [None]*(read_onset+1)\n",
    "        x[0] = torch.zeros([trials, model.N, 1])\n",
    "        u, y = generate_data(T, trials, stim_strength)\n",
    "        \n",
    "        for t in range(T-read_onset):\n",
    "            \n",
    "            # Override x zero.\n",
    "            x[0] = model.lr_rnn.forward(x[0], u[t], tau, dt)\n",
    "            \n",
    "        x[0].detach_()\n",
    " \n",
    "        # Option 0\n",
    "        z = torch.zeros(read_onset, trials)       \n",
    "        \n",
    "        for k in range(read_onset):\n",
    "\n",
    "            # Initialization.\n",
    "            t = T - read_onset + k        \n",
    "            \n",
    "            # Computation of the hidden layer and the readout, roll-out.                \n",
    "            x[k+1], z[k] = model.forward(x[k], u[t], tau, dt)\n",
    "\n",
    "\n",
    "            # Option 1\n",
    "            # use the error or mse.\n",
    "            #loss[k] = mse_loss(z, y.float())\n",
    "            \n",
    "            \n",
    "            \n",
    "        optimizer.zero_grad()  # Reset the gradient values.\n",
    "\n",
    "        #losses = torch.sum(loss) / read_onset\n",
    "        losses = mse_loss(z, y.float())\n",
    "        \n",
    "        losses.backward()  # Compute the gradients.\n",
    "\n",
    "        optimizer.step()  # Parameters update.\n",
    "            \n",
    "        #if epoch%10 == 0:\n",
    "        \n",
    "        print(\"  \", epoch,\"/\",epochs, \"epoch mean error is  ------------  \", losses)\n",
    "        \n",
    "        losses_record.append(losses.detach())\n",
    "        losses.detach()\n",
    "        z.detach()\n",
    "        "
   ]
  },
  {
   "cell_type": "markdown",
   "metadata": {},
   "source": [
    "Why $x$ should be set to zero after each trial?"
   ]
  },
  {
   "cell_type": "code",
   "execution_count": null,
   "metadata": {},
   "outputs": [],
   "source": [
    "z, torch.sum(y)"
   ]
  },
  {
   "cell_type": "code",
   "execution_count": null,
   "metadata": {},
   "outputs": [],
   "source": [
    "y"
   ]
  },
  {
   "cell_type": "code",
   "execution_count": null,
   "metadata": {},
   "outputs": [],
   "source": [
    "for parameter in model.parameters():\n",
    "    print(parameter.size())"
   ]
  },
  {
   "cell_type": "code",
   "execution_count": null,
   "metadata": {},
   "outputs": [],
   "source": [
    "\n",
    "a_trials = 2\n",
    "a_model = Model(a_trials, 512)\n",
    "a_T = 74\n",
    "a_u, a_y = generate_data(a_T, a_trials, stim_strength)\n",
    "a_x = torch.zeros([a_trials,512,1])\n",
    "\n",
    "a_tau = 0.1\n",
    "a_dt = 0.02\n",
    "a_x, a_z = a_model(a_x, a_u[50], a_tau, a_dt)\n",
    "a_u.shape, a_x.shape, a_z.shape"
   ]
  }
 ],
 "metadata": {
  "kernelspec": {
   "display_name": "Python 3",
   "language": "python",
   "name": "python3"
  },
  "language_info": {
   "codemirror_mode": {
    "name": "ipython",
    "version": 3
   },
   "file_extension": ".py",
   "mimetype": "text/x-python",
   "name": "python",
   "nbconvert_exporter": "python",
   "pygments_lexer": "ipython3",
   "version": "3.8.3"
  }
 },
 "nbformat": 4,
 "nbformat_minor": 4
}
