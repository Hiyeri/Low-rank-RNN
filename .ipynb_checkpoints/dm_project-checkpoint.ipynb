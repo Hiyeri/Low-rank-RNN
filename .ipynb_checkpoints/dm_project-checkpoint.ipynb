{
 "cells": [
  {
   "cell_type": "markdown",
   "metadata": {},
   "source": [
    "## Decision making in low-rank recurrent neural networks"
   ]
  },
  {
   "cell_type": "code",
   "execution_count": 25,
   "metadata": {},
   "outputs": [],
   "source": [
    "import numpy as np\n",
    "import matplotlib.pyplot as plt\n",
    "import torch\n",
    "import torch.nn as nn\n",
    "\n",
    "plt.style.use('dark_background')"
   ]
  },
  {
   "cell_type": "markdown",
   "metadata": {},
   "source": [
    "### Perceptual decision makingg"
   ]
  },
  {
   "cell_type": "markdown",
   "metadata": {},
   "source": [
    "__1. Create a function for generating the data.__"
   ]
  },
  {
   "cell_type": "code",
   "execution_count": 2,
   "metadata": {},
   "outputs": [],
   "source": [
    "# defining standard deviation and strength of stimulus\n",
    "std = 0.03\n",
    "stim_strength = std * np.hstack((-np.flip(2**np.arange(0,5)), 2**np.arange(0,5)))\n"
   ]
  },
  {
   "cell_type": "code",
   "execution_count": 3,
   "metadata": {},
   "outputs": [],
   "source": [
    "\n",
    "def generate_data(trials, length, stim_strength, std = 0.03):\n",
    "    \"\"\"\n",
    "    ksi is a normally distr noise with sigma 0.03.\n",
    "    u is an input\n",
    "    û is the stimulis strength\n",
    "    y is the target, i.e. the sign of û\n",
    "    \"\"\"\n",
    "    ksi = std * np.random.randn(trials, length)\n",
    "    \n",
    "  \n",
    "    û_value = np.random.choice(stim_strength, trials)\n",
    "    û = np.full_like(ksi, 0)\n",
    "    y = np.full_like(ksi, 1)\n",
    "    for i in range(trials):\n",
    "        û[i, 5:46] = û_value[i]\n",
    "        y[i] = np.sign(û_value[i]) * y[i]\n",
    "    \n",
    "    return  û + ksi, y\n"
   ]
  },
  {
   "cell_type": "code",
   "execution_count": 4,
   "metadata": {},
   "outputs": [],
   "source": [
    "# generate data\n",
    "\n",
    "T = 80\n",
    "trials = 5\n",
    "u, y = generate_data(trials, T, stim_strength)\n",
    "time = np.arange(0,T)\n"
   ]
  },
  {
   "cell_type": "code",
   "execution_count": 5,
   "metadata": {},
   "outputs": [
    {
     "data": {
      "image/png": "[encoded data removed]",
      "text/plain": [
       "<Figure size 936x216 with 5 Axes>"
      ]
     },
     "metadata": {
      "needs_background": "light"
     },
     "output_type": "display_data"
    }
   ],
   "source": [
    "# plot\n",
    "\n",
    "fig, axs = plt.subplots(1, trials, figsize=(13,3))\n",
    "\n",
    "fig.suptitle(\"Generate Data\")\n",
    "\n",
    "for i in range(trials):\n",
    "    axs[i].plot(time, u[i,:], label=\"stimulus\")\n",
    "    axs[i].plot(time, y[i,:], label=\"target\")\n",
    "    axs[i].set_title(f\"trial {i}\")\n",
    "    axs[i].set_ylim(-1.2, 1.2)\n",
    "axs[0].set_xlabel(\"time\")\n",
    "axs[0].legend()\n",
    "plt.show()"
   ]
  },
  {
   "cell_type": "markdown",
   "metadata": {},
   "source": [
    "__2. Implement the recurrent neural network in your favorite deep learning library.__"
   ]
  },
  {
   "cell_type": "markdown",
   "metadata": {},
   "source": [
    "J matrix has to have two trainable vectors m, and n as parameters."
   ]
  },
  {
   "cell_type": "code",
   "execution_count": 29,
   "metadata": {},
   "outputs": [],
   "source": [
    "\n",
    "class LR_RNN(nn.Module):\n",
    "    def __init__(self, N):\n",
    "        super().__init__()\n",
    "        # storign info\n",
    "        self.N = N\n",
    "        \n",
    "        # pattern from witch connectivity is made\n",
    "        tensor_m = torch.randn(N)\n",
    "        self.m = nn.Parameter(tensor_m)\n",
    "        \n",
    "        # pattern to which connectivity is made\n",
    "        tensor_n = torch.randn(N)\n",
    "        self.n = nn.Parameter(tensor_n)\n",
    "        \n",
    "        self.I = torch.randn(N)  # input weights\n",
    "        \n",
    "        # Output is defined separetly in different class below.\n",
    "        \n",
    "        \n",
    "    def dynamics(self, x, u, tau):\n",
    "        J_of_phi_x = torch.mv(torch.matmul(self.m.reshape(N,1), self.n.reshape(1,N)), torch.tanh(x.reshape(-1)))\n",
    "        return 1/tau *(- x + J_of_phi_x + u * self.I)\n",
    "    \n",
    "    def forward_euler(self, x, u, tau, dt):\n",
    "        return x + self.dynamics(x, u, tau) * dt\n",
    "    \n",
    "   "
   ]
  },
  {
   "cell_type": "code",
   "execution_count": 34,
   "metadata": {},
   "outputs": [],
   "source": [
    "class readout_LR_RNN(nn.Module):\n",
    "    def __init__(self, N):\n",
    "        # storing info\n",
    "        self.N = N\n",
    "        \n",
    "        # the layer\n",
    "        recurrent = LR_RNN(N)\n",
    "        self.lr_rnn = nn.Parameter(recurrent)\n",
    "        \n",
    "        # output layer\n",
    "        tensor_w = torch.randn(N)\n",
    "        self.w = nn.Parameter(tensor_w)\n",
    "    \n",
    "    def forward(self, x: torch.Tensor):\n",
    "        torch.matmul(self.w.reshape(1, N), torch.tanh(x).reshape(N,1))\n",
    "        return \n",
    "        "
   ]
  },
  {
   "cell_type": "code",
   "execution_count": 35,
   "metadata": {},
   "outputs": [
    {
     "ename": "TypeError",
     "evalue": "_make_subclass(): argument 'data' (position 2) must be Tensor, not LR_RNN",
     "output_type": "error",
     "traceback": [
      "\u001b[1;31m---------------------------------------------------------------------------\u001b[0m",
      "\u001b[1;31mTypeError\u001b[0m                                 Traceback (most recent call last)",
      "\u001b[1;32m<ipython-input-35-0989f16e68df>\u001b[0m in \u001b[0;36m<module>\u001b[1;34m\u001b[0m\n\u001b[0;32m      7\u001b[0m \u001b[0mdt\u001b[0m \u001b[1;33m=\u001b[0m \u001b[1;36m0.02\u001b[0m  \u001b[1;31m# seconds\u001b[0m\u001b[1;33m\u001b[0m\u001b[1;33m\u001b[0m\u001b[0m\n\u001b[0;32m      8\u001b[0m \u001b[0mu\u001b[0m\u001b[1;33m,\u001b[0m \u001b[0my\u001b[0m \u001b[1;33m=\u001b[0m \u001b[0mgenerate_data\u001b[0m\u001b[1;33m(\u001b[0m\u001b[0mtrials\u001b[0m\u001b[1;33m,\u001b[0m \u001b[0mT\u001b[0m\u001b[1;33m,\u001b[0m \u001b[0mstim_strength\u001b[0m\u001b[1;33m)\u001b[0m\u001b[1;33m\u001b[0m\u001b[1;33m\u001b[0m\u001b[0m\n\u001b[1;32m----> 9\u001b[1;33m \u001b[0mrnn\u001b[0m \u001b[1;33m=\u001b[0m \u001b[0mreadout_LR_RNN\u001b[0m\u001b[1;33m(\u001b[0m\u001b[0mN\u001b[0m\u001b[1;33m)\u001b[0m\u001b[1;33m\u001b[0m\u001b[1;33m\u001b[0m\u001b[0m\n\u001b[0m",
      "\u001b[1;32m<ipython-input-34-cea61ba6b8f3>\u001b[0m in \u001b[0;36m__init__\u001b[1;34m(self, N)\u001b[0m\n\u001b[0;32m      6\u001b[0m         \u001b[1;31m# the layer\u001b[0m\u001b[1;33m\u001b[0m\u001b[1;33m\u001b[0m\u001b[1;33m\u001b[0m\u001b[0m\n\u001b[0;32m      7\u001b[0m         \u001b[0mrecurrent\u001b[0m \u001b[1;33m=\u001b[0m \u001b[0mLR_RNN\u001b[0m\u001b[1;33m(\u001b[0m\u001b[0mN\u001b[0m\u001b[1;33m)\u001b[0m\u001b[1;33m\u001b[0m\u001b[1;33m\u001b[0m\u001b[0m\n\u001b[1;32m----> 8\u001b[1;33m         \u001b[0mself\u001b[0m\u001b[1;33m.\u001b[0m\u001b[0mlr_rnn\u001b[0m \u001b[1;33m=\u001b[0m \u001b[0mnn\u001b[0m\u001b[1;33m.\u001b[0m\u001b[0mParameter\u001b[0m\u001b[1;33m(\u001b[0m\u001b[0mrecurrent\u001b[0m\u001b[1;33m)\u001b[0m\u001b[1;33m\u001b[0m\u001b[1;33m\u001b[0m\u001b[0m\n\u001b[0m\u001b[0;32m      9\u001b[0m \u001b[1;33m\u001b[0m\u001b[0m\n\u001b[0;32m     10\u001b[0m         \u001b[1;31m# output layer\u001b[0m\u001b[1;33m\u001b[0m\u001b[1;33m\u001b[0m\u001b[1;33m\u001b[0m\u001b[0m\n",
      "\u001b[1;32m~\\anaconda3\\lib\\site-packages\\torch\\nn\\parameter.py\u001b[0m in \u001b[0;36m__new__\u001b[1;34m(cls, data, requires_grad)\u001b[0m\n\u001b[0;32m     24\u001b[0m         \u001b[1;32mif\u001b[0m \u001b[0mdata\u001b[0m \u001b[1;32mis\u001b[0m \u001b[1;32mNone\u001b[0m\u001b[1;33m:\u001b[0m\u001b[1;33m\u001b[0m\u001b[1;33m\u001b[0m\u001b[0m\n\u001b[0;32m     25\u001b[0m             \u001b[0mdata\u001b[0m \u001b[1;33m=\u001b[0m \u001b[0mtorch\u001b[0m\u001b[1;33m.\u001b[0m\u001b[0mTensor\u001b[0m\u001b[1;33m(\u001b[0m\u001b[1;33m)\u001b[0m\u001b[1;33m\u001b[0m\u001b[1;33m\u001b[0m\u001b[0m\n\u001b[1;32m---> 26\u001b[1;33m         \u001b[1;32mreturn\u001b[0m \u001b[0mtorch\u001b[0m\u001b[1;33m.\u001b[0m\u001b[0mTensor\u001b[0m\u001b[1;33m.\u001b[0m\u001b[0m_make_subclass\u001b[0m\u001b[1;33m(\u001b[0m\u001b[0mcls\u001b[0m\u001b[1;33m,\u001b[0m \u001b[0mdata\u001b[0m\u001b[1;33m,\u001b[0m \u001b[0mrequires_grad\u001b[0m\u001b[1;33m)\u001b[0m\u001b[1;33m\u001b[0m\u001b[1;33m\u001b[0m\u001b[0m\n\u001b[0m\u001b[0;32m     27\u001b[0m \u001b[1;33m\u001b[0m\u001b[0m\n\u001b[0;32m     28\u001b[0m     \u001b[1;32mdef\u001b[0m \u001b[0m__deepcopy__\u001b[0m\u001b[1;33m(\u001b[0m\u001b[0mself\u001b[0m\u001b[1;33m,\u001b[0m \u001b[0mmemo\u001b[0m\u001b[1;33m)\u001b[0m\u001b[1;33m:\u001b[0m\u001b[1;33m\u001b[0m\u001b[1;33m\u001b[0m\u001b[0m\n",
      "\u001b[1;31mTypeError\u001b[0m: _make_subclass(): argument 'data' (position 2) must be Tensor, not LR_RNN"
     ]
    }
   ],
   "source": [
    "# Initialize.\n",
    "\n",
    "N = 128\n",
    "x = torch.randn(N)\n",
    "\n",
    "tau = 0.1  # seconds\n",
    "dt = 0.02  # seconds\n",
    "u, y = generate_data(trials, T, stim_strength)\n",
    "rnn = readout_LR_RNN(N)"
   ]
  },
  {
   "cell_type": "code",
   "execution_count": 8,
   "metadata": {},
   "outputs": [],
   "source": [
    "trial_nr = 0\n",
    "out_record = []\n",
    "for t in range(T):\n",
    "    x = rnn.forward_euler(x, u[0, t], tau, dt)\n",
    "    out = (y[trial_nr, t] - torch.matmul(rnn.w.reshape(1, N), torch.tanh(x).reshape(N,1))).pow(2)\n",
    "    out_record.append(out)\n",
    "    out.backward(retain_graph = True)\n",
    "    rnn.m.grad"
   ]
  },
  {
   "cell_type": "code",
   "execution_count": 9,
   "metadata": {},
   "outputs": [
    {
     "data": {
      "text/plain": [
       "[tensor([[0.0981]], grad_fn=<PowBackward0>),\n",
       " tensor([[0.1780]], grad_fn=<PowBackward0>),\n",
       " tensor([[0.0313]], grad_fn=<PowBackward0>),\n",
       " tensor([[0.0667]], grad_fn=<PowBackward0>),\n",
       " tensor([[0.0005]], grad_fn=<PowBackward0>),\n",
       " tensor([[0.3994]], grad_fn=<PowBackward0>),\n",
       " tensor([[1.4475]], grad_fn=<PowBackward0>),\n",
       " tensor([[2.7414]], grad_fn=<PowBackward0>),\n",
       " tensor([[4.0532]], grad_fn=<PowBackward0>),\n",
       " tensor([[6.1376]], grad_fn=<PowBackward0>),\n",
       " tensor([[7.3273]], grad_fn=<PowBackward0>),\n",
       " tensor([[7.5836]], grad_fn=<PowBackward0>),\n",
       " tensor([[7.9620]], grad_fn=<PowBackward0>),\n",
       " tensor([[7.7461]], grad_fn=<PowBackward0>),\n",
       " tensor([[7.7577]], grad_fn=<PowBackward0>),\n",
       " tensor([[7.7638]], grad_fn=<PowBackward0>),\n",
       " tensor([[8.6773]], grad_fn=<PowBackward0>),\n",
       " tensor([[9.2857]], grad_fn=<PowBackward0>),\n",
       " tensor([[8.5085]], grad_fn=<PowBackward0>),\n",
       " tensor([[9.5067]], grad_fn=<PowBackward0>),\n",
       " tensor([[10.7449]], grad_fn=<PowBackward0>),\n",
       " tensor([[10.4058]], grad_fn=<PowBackward0>),\n",
       " tensor([[10.9195]], grad_fn=<PowBackward0>),\n",
       " tensor([[11.7299]], grad_fn=<PowBackward0>),\n",
       " tensor([[11.0001]], grad_fn=<PowBackward0>),\n",
       " tensor([[10.3093]], grad_fn=<PowBackward0>),\n",
       " tensor([[10.1248]], grad_fn=<PowBackward0>),\n",
       " tensor([[9.8318]], grad_fn=<PowBackward0>),\n",
       " tensor([[10.0466]], grad_fn=<PowBackward0>),\n",
       " tensor([[11.1970]], grad_fn=<PowBackward0>),\n",
       " tensor([[10.7029]], grad_fn=<PowBackward0>),\n",
       " tensor([[10.5432]], grad_fn=<PowBackward0>),\n",
       " tensor([[8.8365]], grad_fn=<PowBackward0>),\n",
       " tensor([[8.9074]], grad_fn=<PowBackward0>),\n",
       " tensor([[9.0190]], grad_fn=<PowBackward0>),\n",
       " tensor([[9.6375]], grad_fn=<PowBackward0>),\n",
       " tensor([[9.3665]], grad_fn=<PowBackward0>),\n",
       " tensor([[8.7035]], grad_fn=<PowBackward0>),\n",
       " tensor([[8.5247]], grad_fn=<PowBackward0>),\n",
       " tensor([[9.0553]], grad_fn=<PowBackward0>),\n",
       " tensor([[9.2877]], grad_fn=<PowBackward0>),\n",
       " tensor([[9.1639]], grad_fn=<PowBackward0>),\n",
       " tensor([[7.8688]], grad_fn=<PowBackward0>),\n",
       " tensor([[7.8441]], grad_fn=<PowBackward0>),\n",
       " tensor([[8.5902]], grad_fn=<PowBackward0>),\n",
       " tensor([[8.3603]], grad_fn=<PowBackward0>),\n",
       " tensor([[5.9545]], grad_fn=<PowBackward0>),\n",
       " tensor([[5.1687]], grad_fn=<PowBackward0>),\n",
       " tensor([[3.3318]], grad_fn=<PowBackward0>),\n",
       " tensor([[3.1847]], grad_fn=<PowBackward0>),\n",
       " tensor([[2.8851]], grad_fn=<PowBackward0>),\n",
       " tensor([[2.4709]], grad_fn=<PowBackward0>),\n",
       " tensor([[2.2670]], grad_fn=<PowBackward0>),\n",
       " tensor([[1.7014]], grad_fn=<PowBackward0>),\n",
       " tensor([[1.3413]], grad_fn=<PowBackward0>),\n",
       " tensor([[1.3486]], grad_fn=<PowBackward0>),\n",
       " tensor([[0.9162]], grad_fn=<PowBackward0>),\n",
       " tensor([[1.0668]], grad_fn=<PowBackward0>),\n",
       " tensor([[0.7736]], grad_fn=<PowBackward0>),\n",
       " tensor([[0.5299]], grad_fn=<PowBackward0>),\n",
       " tensor([[0.7381]], grad_fn=<PowBackward0>),\n",
       " tensor([[0.7708]], grad_fn=<PowBackward0>),\n",
       " tensor([[0.8936]], grad_fn=<PowBackward0>),\n",
       " tensor([[1.0285]], grad_fn=<PowBackward0>),\n",
       " tensor([[0.9748]], grad_fn=<PowBackward0>),\n",
       " tensor([[0.9727]], grad_fn=<PowBackward0>),\n",
       " tensor([[0.8800]], grad_fn=<PowBackward0>),\n",
       " tensor([[0.5652]], grad_fn=<PowBackward0>),\n",
       " tensor([[0.7837]], grad_fn=<PowBackward0>),\n",
       " tensor([[0.7482]], grad_fn=<PowBackward0>),\n",
       " tensor([[1.0798]], grad_fn=<PowBackward0>),\n",
       " tensor([[0.6904]], grad_fn=<PowBackward0>),\n",
       " tensor([[0.5879]], grad_fn=<PowBackward0>),\n",
       " tensor([[0.6853]], grad_fn=<PowBackward0>),\n",
       " tensor([[0.8613]], grad_fn=<PowBackward0>),\n",
       " tensor([[0.9031]], grad_fn=<PowBackward0>),\n",
       " tensor([[1.3507]], grad_fn=<PowBackward0>),\n",
       " tensor([[1.3993]], grad_fn=<PowBackward0>),\n",
       " tensor([[1.6642]], grad_fn=<PowBackward0>),\n",
       " tensor([[1.6331]], grad_fn=<PowBackward0>)]"
      ]
     },
     "execution_count": 9,
     "metadata": {},
     "output_type": "execute_result"
    }
   ],
   "source": [
    "out_record"
   ]
  }
 ],
 "metadata": {
  "kernelspec": {
   "display_name": "Python 3",
   "language": "python",
   "name": "python3"
  },
  "language_info": {
   "codemirror_mode": {
    "name": "ipython",
    "version": 3
   },
   "file_extension": ".py",
   "mimetype": "text/x-python",
   "name": "python",
   "nbconvert_exporter": "python",
   "pygments_lexer": "ipython3",
   "version": "3.8.3"
  }
 },
 "nbformat": 4,
 "nbformat_minor": 4
}
