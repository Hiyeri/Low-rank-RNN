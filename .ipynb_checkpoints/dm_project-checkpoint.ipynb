{
 "cells": [
  {
   "cell_type": "markdown",
   "metadata": {},
   "source": [
    "## Decision making in low-rank recurrent neural networks"
   ]
  },
  {
   "cell_type": "code",
   "execution_count": 1,
   "metadata": {},
   "outputs": [],
   "source": [
    "import numpy as np\n",
    "import matplotlib.pyplot as plt\n",
    "import torch\n",
    "import torch.nn as nn\n",
    "# plt.style.use('dark_background')"
   ]
  },
  {
   "cell_type": "markdown",
   "metadata": {},
   "source": [
    "### Perceptual decision makingg"
   ]
  },
  {
   "cell_type": "markdown",
   "metadata": {},
   "source": [
    "__1. Create a function for generating the data.__"
   ]
  },
  {
   "cell_type": "code",
   "execution_count": 2,
   "metadata": {},
   "outputs": [],
   "source": [
    "# defining standard deviation and strength of stimulus\n",
    "std = 0.03\n",
    "stim_strength = std * np.hstack((-np.flip(2**np.arange(0,5)), 2**np.arange(0,5)))\n"
   ]
  },
  {
   "cell_type": "code",
   "execution_count": 3,
   "metadata": {},
   "outputs": [],
   "source": [
    "\n",
    "def generate_data(trials, length, stim_strength, std = 0.03):\n",
    "    \"\"\"\n",
    "    ksi is a normally distr noise with sigma 0.03.\n",
    "    u is an input\n",
    "    û is the stimulis strength\n",
    "    y is the target, i.e. the sign of û\n",
    "    \"\"\"\n",
    "    ksi = std * np.random.randn(trials, length)\n",
    "    \n",
    "  \n",
    "    û_value = np.random.choice(stim_strength, trials)\n",
    "    û = np.full_like(ksi, 0)\n",
    "    y = np.full_like(ksi, 1)\n",
    "    for i in range(trials):\n",
    "        û[i, 5:46] = û_value[i]\n",
    "        y[i] = np.sign(û_value[i]) * y[i]\n",
    "    \n",
    "    return  û + ksi, y\n"
   ]
  },
  {
   "cell_type": "code",
   "execution_count": 4,
   "metadata": {},
   "outputs": [],
   "source": [
    "# generate data\n",
    "\n",
    "T = 80\n",
    "trials = 5\n",
    "u, y = generate_data(trials, T, stim_strength)\n",
    "time = np.arange(0,T)\n"
   ]
  },
  {
   "cell_type": "code",
   "execution_count": 5,
   "metadata": {},
   "outputs": [
    {
     "data": {
      "image/png": "[encoded data removed]",
      "text/plain": [
       "<Figure size 936x216 with 5 Axes>"
      ]
     },
     "metadata": {
      "needs_background": "light"
     },
     "output_type": "display_data"
    }
   ],
   "source": [
    "# plot\n",
    "\n",
    "fig, axs = plt.subplots(1, trials, figsize=(13,3))\n",
    "\n",
    "fig.suptitle(\"Generate Data\")\n",
    "\n",
    "for i in range(trials):\n",
    "    axs[i].plot(time, u[i,:], label=\"stimulus\")\n",
    "    axs[i].plot(time, y[i,:], label=\"target\")\n",
    "    axs[i].set_title(f\"trial {i}\")\n",
    "    axs[i].set_ylim(-1.2, 1.2)\n",
    "axs[0].set_xlabel(\"time\")\n",
    "axs[0].legend()\n",
    "plt.show()"
   ]
  },
  {
   "cell_type": "markdown",
   "metadata": {},
   "source": [
    "__2. Implement the recurrent neural network in your favorite deep learning library.__"
   ]
  },
  {
   "cell_type": "markdown",
   "metadata": {},
   "source": [
    "J matrix has to have two trainable vectors m, and n as parameters."
   ]
  },
  {
   "cell_type": "code",
   "execution_count": 6,
   "metadata": {},
   "outputs": [],
   "source": [
    "\n",
    "class LinearLayer(nn.Module):\n",
    "    def __init__(self, N):\n",
    "        super().__init__()\n",
    "        tensor_m = torch.randn(N)\n",
    "        self.m = nn.Parameter(tensor_m)\n",
    "        \n",
    "        tensor_n = torch.randn(N)\n",
    "        self.n = nn.Parameter(tensor_n)\n",
    "        \n",
    "        tensor_I = torch.randn(N)\n",
    "        self.I = nn.Parameter(tensor_I)\n",
    "        \n",
    "        tensor_w = torch.randn(N)\n",
    "        self.w = nn.Parameter(tensor_w)\n",
    "\n",
    "    def dynamics(self, x, u, tau):\n",
    "        J_of_phi_x = torch.mv(torch.matmul(self.m.reshape(N,1), self.n.reshape(1,N)), torch.tanh(x.reshape(-1)))\n",
    "        return 1/tau *(- x + J_of_phi_x + u * self.I)\n",
    "    \n",
    "    def forward_euler(self, x, u, tau, dt):\n",
    "        return x + self.dynamics(x, u, tau) * dt\n",
    "    \n",
    "   "
   ]
  },
  {
   "cell_type": "code",
   "execution_count": 7,
   "metadata": {},
   "outputs": [],
   "source": [
    "# Initialize.\n",
    "\n",
    "N = 128\n",
    "x = torch.randn(N)\n",
    "\n",
    "tau = 0.1  # seconds\n",
    "dt = 0.02  # seconds\n",
    "u, y = generate_data(trials, T, stim_strength)\n",
    "rnn = LinearLayer(N)"
   ]
  },
  {
   "cell_type": "code",
   "execution_count": 8,
   "metadata": {},
   "outputs": [],
   "source": [
    "trial_nr = 0\n",
    "out_record = []\n",
    "for t in range(T):\n",
    "    x = rnn.forward_euler(x, u[0, t], tau, dt)\n",
    "    out = (y[trial_nr, t] - torch.matmul(rnn.w.reshape(1, N), torch.tanh(x).reshape(N,1))).pow(2)\n",
    "    out_record.append(out)\n",
    "    out.backward(retain_graph = True)\n",
    "    rnn.m.grad"
   ]
  },
  {
   "cell_type": "code",
   "execution_count": 9,
   "metadata": {},
   "outputs": [
    {
     "data": {
      "text/plain": [
       "[tensor([[13.9469]], grad_fn=<PowBackward0>),\n",
       " tensor([[33.3112]], grad_fn=<PowBackward0>),\n",
       " tensor([[41.0292]], grad_fn=<PowBackward0>),\n",
       " tensor([[39.8278]], grad_fn=<PowBackward0>),\n",
       " tensor([[35.5761]], grad_fn=<PowBackward0>),\n",
       " tensor([[29.8142]], grad_fn=<PowBackward0>),\n",
       " tensor([[25.5100]], grad_fn=<PowBackward0>),\n",
       " tensor([[22.7662]], grad_fn=<PowBackward0>),\n",
       " tensor([[20.5562]], grad_fn=<PowBackward0>),\n",
       " tensor([[21.0616]], grad_fn=<PowBackward0>),\n",
       " tensor([[22.5074]], grad_fn=<PowBackward0>),\n",
       " tensor([[25.2230]], grad_fn=<PowBackward0>),\n",
       " tensor([[26.2952]], grad_fn=<PowBackward0>),\n",
       " tensor([[23.7842]], grad_fn=<PowBackward0>),\n",
       " tensor([[19.8396]], grad_fn=<PowBackward0>),\n",
       " tensor([[17.0811]], grad_fn=<PowBackward0>),\n",
       " tensor([[14.4543]], grad_fn=<PowBackward0>),\n",
       " tensor([[11.8932]], grad_fn=<PowBackward0>),\n",
       " tensor([[10.1079]], grad_fn=<PowBackward0>),\n",
       " tensor([[11.5187]], grad_fn=<PowBackward0>),\n",
       " tensor([[12.6922]], grad_fn=<PowBackward0>),\n",
       " tensor([[14.8361]], grad_fn=<PowBackward0>),\n",
       " tensor([[16.6350]], grad_fn=<PowBackward0>),\n",
       " tensor([[17.0049]], grad_fn=<PowBackward0>),\n",
       " tensor([[19.0319]], grad_fn=<PowBackward0>),\n",
       " tensor([[19.7174]], grad_fn=<PowBackward0>),\n",
       " tensor([[21.4385]], grad_fn=<PowBackward0>),\n",
       " tensor([[22.3078]], grad_fn=<PowBackward0>),\n",
       " tensor([[19.8610]], grad_fn=<PowBackward0>),\n",
       " tensor([[15.1887]], grad_fn=<PowBackward0>),\n",
       " tensor([[12.7093]], grad_fn=<PowBackward0>),\n",
       " tensor([[7.7038]], grad_fn=<PowBackward0>),\n",
       " tensor([[4.7315]], grad_fn=<PowBackward0>),\n",
       " tensor([[3.8640]], grad_fn=<PowBackward0>),\n",
       " tensor([[4.1089]], grad_fn=<PowBackward0>),\n",
       " tensor([[4.8722]], grad_fn=<PowBackward0>),\n",
       " tensor([[7.1289]], grad_fn=<PowBackward0>),\n",
       " tensor([[7.4314]], grad_fn=<PowBackward0>),\n",
       " tensor([[5.8720]], grad_fn=<PowBackward0>),\n",
       " tensor([[4.8389]], grad_fn=<PowBackward0>),\n",
       " tensor([[5.4872]], grad_fn=<PowBackward0>),\n",
       " tensor([[7.6873]], grad_fn=<PowBackward0>),\n",
       " tensor([[11.0161]], grad_fn=<PowBackward0>),\n",
       " tensor([[13.3992]], grad_fn=<PowBackward0>),\n",
       " tensor([[18.7908]], grad_fn=<PowBackward0>),\n",
       " tensor([[24.0055]], grad_fn=<PowBackward0>),\n",
       " tensor([[22.1303]], grad_fn=<PowBackward0>),\n",
       " tensor([[17.1064]], grad_fn=<PowBackward0>),\n",
       " tensor([[10.1710]], grad_fn=<PowBackward0>),\n",
       " tensor([[7.1727]], grad_fn=<PowBackward0>),\n",
       " tensor([[5.5489]], grad_fn=<PowBackward0>),\n",
       " tensor([[3.5719]], grad_fn=<PowBackward0>),\n",
       " tensor([[1.0860]], grad_fn=<PowBackward0>),\n",
       " tensor([[0.3360]], grad_fn=<PowBackward0>),\n",
       " tensor([[0.0789]], grad_fn=<PowBackward0>),\n",
       " tensor([[0.0574]], grad_fn=<PowBackward0>),\n",
       " tensor([[0.0004]], grad_fn=<PowBackward0>),\n",
       " tensor([[0.0734]], grad_fn=<PowBackward0>),\n",
       " tensor([[0.0260]], grad_fn=<PowBackward0>),\n",
       " tensor([[0.0249]], grad_fn=<PowBackward0>),\n",
       " tensor([[0.1029]], grad_fn=<PowBackward0>),\n",
       " tensor([[0.1647]], grad_fn=<PowBackward0>),\n",
       " tensor([[0.1818]], grad_fn=<PowBackward0>),\n",
       " tensor([[0.3031]], grad_fn=<PowBackward0>),\n",
       " tensor([[0.3975]], grad_fn=<PowBackward0>),\n",
       " tensor([[0.6938]], grad_fn=<PowBackward0>),\n",
       " tensor([[0.8419]], grad_fn=<PowBackward0>),\n",
       " tensor([[0.1785]], grad_fn=<PowBackward0>),\n",
       " tensor([[0.0076]], grad_fn=<PowBackward0>),\n",
       " tensor([[0.2049]], grad_fn=<PowBackward0>),\n",
       " tensor([[0.3529]], grad_fn=<PowBackward0>),\n",
       " tensor([[0.5670]], grad_fn=<PowBackward0>),\n",
       " tensor([[1.0951]], grad_fn=<PowBackward0>),\n",
       " tensor([[1.3678]], grad_fn=<PowBackward0>),\n",
       " tensor([[2.2011]], grad_fn=<PowBackward0>),\n",
       " tensor([[3.9936]], grad_fn=<PowBackward0>),\n",
       " tensor([[2.7290]], grad_fn=<PowBackward0>),\n",
       " tensor([[1.5602]], grad_fn=<PowBackward0>),\n",
       " tensor([[1.9732]], grad_fn=<PowBackward0>),\n",
       " tensor([[3.3795]], grad_fn=<PowBackward0>)]"
      ]
     },
     "execution_count": 9,
     "metadata": {},
     "output_type": "execute_result"
    }
   ],
   "source": [
    "out_record"
   ]
  }
 ],
 "metadata": {
  "kernelspec": {
   "display_name": "Python 3",
   "language": "python",
   "name": "python3"
  },
  "language_info": {
   "codemirror_mode": {
    "name": "ipython",
    "version": 3
   },
   "file_extension": ".py",
   "mimetype": "text/x-python",
   "name": "python",
   "nbconvert_exporter": "python",
   "pygments_lexer": "ipython3",
   "version": "3.8.3"
  }
 },
 "nbformat": 4,
 "nbformat_minor": 4
}
