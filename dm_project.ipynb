{
 "cells": [
  {
   "cell_type": "markdown",
   "metadata": {},
   "source": [
    "## Decision making in low-rank recurrent neural networks"
   ]
  },
  {
   "cell_type": "code",
   "execution_count": 1,
   "metadata": {},
   "outputs": [],
   "source": [
    "import numpy as np\n",
    "import matplotlib.pyplot as plt\n",
    "import torch\n",
    "import torch.nn as nn\n",
    "# plt.style.use('dark_background')"
   ]
  },
  {
   "cell_type": "markdown",
   "metadata": {},
   "source": [
    "### Perceptual decision makingg"
   ]
  },
  {
   "cell_type": "markdown",
   "metadata": {},
   "source": [
    "__1. Create a function for generating the data.__"
   ]
  },
  {
   "cell_type": "code",
   "execution_count": 8,
   "metadata": {},
   "outputs": [],
   "source": [
    "# defining standard deviation and strength of stimulus\n",
    "\n",
    "std = 0.03\n",
    "stim_strength = std * np.hstack((-np.flip(2**np.arange(0,5)), 2**np.arange(0,5)))\n"
   ]
  },
  {
   "cell_type": "code",
   "execution_count": null,
   "metadata": {},
   "outputs": [],
   "source": [
    "\n",
    "def generate_data(trials, length, stim_strength, std = 0.03):\n",
    "    \"\"\"\n",
    "    ksi is a normally distr noise with sigma 0.03.\n",
    "    u is an input\n",
    "    û is the stimulis strength\n",
    "    y is the target, i.e. the sign of û\n",
    "    \"\"\"\n",
    "    ksi = std * np.random.randn(trials, length)\n",
    "    \n",
    "  \n",
    "    û_value = np.random.choice(stim_strength, trials)\n",
    "    û = np.full_like(ksi, 0)\n",
    "    y = np.full_like(ksi, 1)\n",
    "    for i in range(trials):\n",
    "        û[i, 5:46] = û_value[i]\n",
    "        y[i] = np.sign(û_value[i]) * y[i]\n",
    "    \n",
    "    return  û + ksi, y\n"
   ]
  },
  {
   "cell_type": "code",
   "execution_count": 11,
   "metadata": {},
   "outputs": [],
   "source": [
    "# generate data\n",
    "\n",
    "T = 80\n",
    "trials = 5\n",
    "u, y = generate_data(trials, T, stim_strength)\n",
    "time = np.arange(0,T)\n"
   ]
  },
  {
   "cell_type": "code",
   "execution_count": 13,
   "metadata": {},
   "outputs": [
    {
     "data": {
      "image/png": "[encoded data removed]",
      "text/plain": [
       "<Figure size 936x216 with 5 Axes>"
      ]
     },
     "metadata": {
      "needs_background": "light"
     },
     "output_type": "display_data"
    }
   ],
   "source": [
    "# plot\n",
    "\n",
    "fig, axs = plt.subplots(1, trials, figsize=(13,3))\n",
    "\n",
    "fig.suptitle(\"Generate Data\")\n",
    "\n",
    "for i in range(trials):\n",
    "    axs[i].plot(time, u[i,:], label=\"stimulus\")\n",
    "    axs[i].plot(time, y[i,:], label=\"target\")\n",
    "    axs[i].set_title(f\"trial {i}\")\n",
    "    axs[i].set_ylim(-1.2, 1.2)\n",
    "axs[0].set_xlabel(\"time\")\n",
    "axs[0].legend()\n",
    "plt.show()"
   ]
  },
  {
   "cell_type": "markdown",
   "metadata": {},
   "source": [
    "__2. Implement the recurrent neural network in your favorite deep learning library.__"
   ]
  },
  {
   "cell_type": "code",
   "execution_count": 14,
   "metadata": {},
   "outputs": [],
   "source": [
    "# Define the input-to-hidden, hidden-to-hidden and hidden-to-output matrices.\n",
    "I = lambda N: np.random.normal(0, 1, N)\n",
    "J = lambda N: 1 / N * (np.random.normal(0, 1, N).reshape(N, 1)@np.random.normal(0, 1, N).reshape(N, 1).T)\n",
    "w = lambda N: np.random.normal(0, 1, N)\n",
    "\n",
    "# Define the functions.\n",
    "phi = lambda x: np.tanh(x)\n",
    "dynamics = lambda u, x, N, t, tau=100: (-x + J(N)@phi(x) + I(N)*u[t]) / tau\n",
    "output = lambda x, N: 1 / N * w(N)@phi(x)"
   ]
  },
  {
   "cell_type": "code",
   "execution_count": 15,
   "metadata": {},
   "outputs": [],
   "source": [
    "def forward_euler(u, x, N, dt=20, tau=100):\n",
    "    x = x + dt * dynamics(u, x, N, tau)\n",
    "    return x"
   ]
  },
  {
   "cell_type": "code",
   "execution_count": 16,
   "metadata": {},
   "outputs": [],
   "source": [
    "class RNN(nn.Module):\n",
    "    def __init__(self, input_size, hidden_size, num_layers, output_size, I, J, w, x):\n",
    "        super(RNN, self).__init__()\n",
    "        \n",
    "        # Defining the number of layers and the nodes in each layer.\n",
    "        self.input_size = input_size\n",
    "        self.hidden_size = hidden_size\n",
    "        self.num_layers = num_layers\n",
    "        \n",
    "        # RNN layers.\n",
    "        self.rnn = nn.RNN(input_size, hidden_size, num_layers, bias=True, nonlinearity='tanh')\n",
    "        self.fc = nn.Linear(hidden_size, output_size)\n",
    "        \n",
    "        # Initialization of weights and biases.\n",
    "        self.rnn.weight_ih_I = torch.from_numpy(I.T)\n",
    "        self.rnn.weight_hh_I = torch.from_numpy(J)\n",
    "        self.fc.weight.data = torch.from_numpy(w.reshape(output_size, hidden_size)).float()\n",
    "        \n",
    "        self.bias_ih_I = torch.from_numpy(-x)\n",
    "        self.bias_hh_I = torch.from_numpy(np.zeros(hidden_size))\n",
    "        self.fc.bias.data = torch.from_numpy(np.zeros(output_size)).float()\n",
    "        \n",
    "    def forward(self, u, X):\n",
    "        # Initializing input and hidden state to fit into the model.\n",
    "        input = torch.from_numpy((u.T.reshape(u.T.shape[0], u.T.shape[1], self.input_size)).astype(np.float32))\n",
    "        hidden = torch.from_numpy((X[-1, :, :].reshape(self.num_layers, X.shape[1], X.shape[2])).astype(np.float32))\n",
    "        \n",
    "        # Input-to-hidden propagation.\n",
    "        out, h_0 = self.rnn(input, hidden)\n",
    "        \n",
    "        # Reshaping the outputs so that it can fit into the fully connected layer.\n",
    "        out = out[:, -1, :]\n",
    "        out = 1 / self.hidden_size * self.fc(out)\n",
    "        \n",
    "        return out"
   ]
  },
  {
   "cell_type": "code",
   "execution_count": null,
   "metadata": {},
   "outputs": [],
   "source": []
  }
 ],
 "metadata": {
  "kernelspec": {
   "display_name": "Python 3",
   "language": "python",
   "name": "python3"
  },
  "language_info": {
   "codemirror_mode": {
    "name": "ipython",
    "version": 3
   },
   "file_extension": ".py",
   "mimetype": "text/x-python",
   "name": "python",
   "nbconvert_exporter": "python",
   "pygments_lexer": "ipython3",
   "version": "3.8.3"
  }
 },
 "nbformat": 4,
 "nbformat_minor": 4
}
