{
 "cells": [
  {
   "cell_type": "markdown",
   "metadata": {},
   "source": [
    "## Decision making in low-rank recurrent neural networks"
   ]
  },
  {
   "cell_type": "code",
   "execution_count": 1,
   "metadata": {},
   "outputs": [
    {
     "data": {
      "text/plain": [
       "<torch.autograd.anomaly_mode.set_detect_anomaly at 0x1f735f8b490>"
      ]
     },
     "execution_count": 1,
     "metadata": {},
     "output_type": "execute_result"
    }
   ],
   "source": [
    "import numpy as np\n",
    "import matplotlib.pyplot as plt\n",
    "import pdb\n",
    "import torch\n",
    "import torch.nn as nn\n",
    "\n",
    "#plt.style.use('dark_background')\n",
    "\n",
    "# For debugging we will use the below inside some functions.\n",
    "torch.autograd.set_detect_anomaly(True)\n",
    "        "
   ]
  },
  {
   "cell_type": "markdown",
   "metadata": {},
   "source": [
    "### Perceptual decision makingg"
   ]
  },
  {
   "cell_type": "markdown",
   "metadata": {},
   "source": [
    "__1. Create a function for generating the data.__"
   ]
  },
  {
   "cell_type": "code",
   "execution_count": 2,
   "metadata": {},
   "outputs": [],
   "source": [
    "# defining standard deviation and strength of stimulus\n",
    "std = 0.03\n",
    "stim_strength = std * np.hstack((-np.flip(2**np.arange(0,5)), 2**np.arange(0,5)))\n"
   ]
  },
  {
   "cell_type": "code",
   "execution_count": 3,
   "metadata": {},
   "outputs": [],
   "source": [
    "# TODO: check the dimensions needed for the target y.\n",
    "\n",
    "\n",
    "def generate_data(time_length, trials, stim_strength, std = 0.03):\n",
    "    \"\"\"\n",
    "    ksi is a normally distr noise with sigma 0.03.\n",
    "    u is an input\n",
    "    û is the stimulis strength\n",
    "    y is the target, i.e. the sign of û. \n",
    "    y's first dimension is time length and second is  trials. \n",
    "    \"\"\"\n",
    "    ksi = std * np.random.randn(time_length, trials)\n",
    "    \n",
    "  \n",
    "    û_value = np.random.choice(stim_strength, size=trials)\n",
    "    û = np.full_like(ksi, 0)\n",
    "    y = np.full_like(ksi, 1)\n",
    "    for i in range(trials):  # vectorize it??\n",
    "        û[5:46, i] = û_value[i]\n",
    "        y[:, i] = np.sign(û_value[i]) * y[:, i]\n",
    "    \n",
    "    return  torch.from_numpy(û + ksi).reshape([time_length, trials, 1, 1]), torch.from_numpy(y)\n"
   ]
  },
  {
   "cell_type": "code",
   "execution_count": 4,
   "metadata": {},
   "outputs": [],
   "source": [
    "# generate data\n",
    "\n",
    "T = 75\n",
    "trials = 8\n",
    "u, y = generate_data(T, trials, stim_strength)\n",
    "time = np.arange(0,T)\n"
   ]
  },
  {
   "cell_type": "code",
   "execution_count": 5,
   "metadata": {},
   "outputs": [
    {
     "data": {
      "text/plain": [
       "(torch.Size([75, 8, 1, 1]), torch.Size([75, 8]))"
      ]
     },
     "execution_count": 5,
     "metadata": {},
     "output_type": "execute_result"
    }
   ],
   "source": [
    "u.shape, y.shape"
   ]
  },
  {
   "cell_type": "code",
   "execution_count": 6,
   "metadata": {},
   "outputs": [
    {
     "data": {
      "image/png": "[encoded data removed]",
      "text/plain": [
       "<Figure size 1080x144 with 8 Axes>"
      ]
     },
     "metadata": {
      "needs_background": "light"
     },
     "output_type": "display_data"
    }
   ],
   "source": [
    "# plot\n",
    "\n",
    "fig, axs = plt.subplots(1, trials, figsize=(15,2))\n",
    "\n",
    "fig.suptitle(\"Generate Data\")\n",
    "\n",
    "for i in range(trials):\n",
    "    axs[i].plot(time, u[:, i, 0, 0], label=\"stimulus\")\n",
    "    axs[i].plot(time, y[:, i], label=\"target\")\n",
    "    axs[i].set_title(f\"trial {i}\")\n",
    "    axs[i].set_ylim(-1.2, 1.2)\n",
    "axs[0].set_xlabel(\"time\")\n",
    "axs[0].set_ylabel(\"signal strength\")\n",
    "axs[0].legend()\n",
    "plt.show()"
   ]
  },
  {
   "cell_type": "markdown",
   "metadata": {},
   "source": [
    "__2. Implement the recurrent neural network in your favorite deep learning library.__"
   ]
  },
  {
   "cell_type": "markdown",
   "metadata": {},
   "source": [
    "J matrix has to have two trainable vectors m, and n as parameters."
   ]
  },
  {
   "cell_type": "code",
   "execution_count": 7,
   "metadata": {},
   "outputs": [],
   "source": [
    "# TODO: vectorize input and targets and all into batch of time and trials."
   ]
  },
  {
   "cell_type": "code",
   "execution_count": 15,
   "metadata": {},
   "outputs": [],
   "source": [
    "#Todo: finish refactoring for batch dim, reduce the reshapings.\n",
    "\n",
    "def dynamics(x, u_of_t, tau, m,n,I):\n",
    "    J_of_phi_x = torch.div(torch.matmul(torch.matmul(m, n).float(), torch.tanh(x).float()), len(n))\n",
    "\n",
    "    return (-x + J_of_phi_x + u_of_t*I) / tau  # is broadcasting working for input and in weigths?\n"
   ]
  },
  {
   "cell_type": "code",
   "execution_count": 25,
   "metadata": {},
   "outputs": [
    {
     "data": {
      "text/plain": [
       "(torch.Size([2, 124, 1]), torch.Size([2, 124, 1]))"
      ]
     },
     "execution_count": 25,
     "metadata": {},
     "output_type": "execute_result"
    }
   ],
   "source": [
    "# Test dynamics.\n",
    "x = torch.randn([2,124,1])   # trials, size of the network, and 1 dimension\n",
    "I = torch.randn([124,1])   # size of the network and 1 dimension\n",
    "\n",
    "u, y = generate_data(74, 2, stim_strength) # time, trials, stimulis strength\n",
    "tau = 0.1\n",
    "\n",
    "\n",
    "\n",
    "\n",
    "m = torch.randn(2, 124, 1)\n",
    "n = torch.randn(2, 1, 124)\n",
    "(u[50]*I).shape, dynamics(x, u[50], tau, m, n, I).shape\n"
   ]
  },
  {
   "cell_type": "code",
   "execution_count": 26,
   "metadata": {},
   "outputs": [],
   "source": [
    "\n",
    "class LR_RNN(nn.Module):\n",
    "    # Low-rank recurrent neural network without readout.\n",
    "    def __init__(self, N):\n",
    "        super().__init__()\n",
    "        # storign info\n",
    "        self.N = N\n",
    "        \n",
    "        # pattern from witch connectivity is made\n",
    "        tensor_m = torch.randn([N,1])\n",
    "        self.m = nn.Parameter(tensor_m)\n",
    "        \n",
    "        # pattern to which connectivity is made\n",
    "        tensor_n = torch.randn([1,N])\n",
    "        self.n = nn.Parameter(tensor_n)\n",
    "        \n",
    "        # input weights\n",
    "        self.I = torch.randn([N,1])\n",
    "        \n",
    "        # Output is defined separetly in different class below.\n",
    "\n",
    "          \n",
    "    def forward(self, x, u_of_t, tau, dt):\n",
    "        # It's an Euler method.\n",
    "        return x +  dt * dynamics(x, u_of_t, tau, self.m, self.n, self.I)\n",
    "   "
   ]
  },
  {
   "cell_type": "code",
   "execution_count": 57,
   "metadata": {},
   "outputs": [],
   "source": [
    "class Model(nn.Module):\n",
    "    def __init__(self, trials, N):\n",
    "        super().__init__()\n",
    "        # storing info\n",
    "        self.N = N\n",
    "        \n",
    "        # the layer\n",
    "        self.lr_rnn = LR_RNN(N)\n",
    "        \n",
    "        # output layer\n",
    "        std_dev = 4\n",
    "        self.w = std_dev*torch.randn([1, N])\n",
    "        \n",
    "\n",
    "    \n",
    "    def forward(self, x: torch.Tensor, u_of_t, tau, dt):\n",
    "        \n",
    "        \"\"\"\n",
    "        Going forward with the low rank rnn and input.\n",
    "        Reading through electrode weights.\n",
    "        \"\"\"\n",
    "        x1 = self.lr_rnn(x, u_of_t, tau, dt)\n",
    "\n",
    "        torch.autograd.set_detect_anomaly(True)\n",
    "        \n",
    "        z = 1/self.N * torch.matmul(self.w.float(), torch.tanh(x1).float())\n",
    "        z.squeeze_()\n",
    "        return x1, z\n",
    "        "
   ]
  },
  {
   "cell_type": "code",
   "execution_count": 58,
   "metadata": {},
   "outputs": [
    {
     "data": {
      "text/plain": [
       "(torch.Size([74, 2, 1, 1]), torch.Size([2, 512, 1]), torch.Size([2]))"
      ]
     },
     "execution_count": 58,
     "metadata": {},
     "output_type": "execute_result"
    }
   ],
   "source": [
    "\n",
    "a_trials = 2\n",
    "a_model = Model(a_trials, 512)\n",
    "a_T = 74\n",
    "a_u, a_y = generate_data(a_T, a_trials, stim_strength)\n",
    "a_x = torch.zeros([a_trials,512,1])\n",
    "\n",
    "a_tau = 0.1\n",
    "a_dt = 0.02\n",
    "a_x, a_z = a_model(a_x, a_u[50], a_tau, a_dt)\n",
    "a_u.shape, a_x.shape, a_z.shape"
   ]
  },
  {
   "cell_type": "code",
   "execution_count": 29,
   "metadata": {},
   "outputs": [],
   "source": [
    "# TODO: check dimensions for multiplication self.w with tanh(x)"
   ]
  },
  {
   "cell_type": "code",
   "execution_count": 59,
   "metadata": {},
   "outputs": [],
   "source": [
    "# Initialize.\n",
    "\n",
    "N = 124\n",
    "trials = 32    # Mini-batch size, minimum value is 2 (probably because of squeezing and broadcasting).\n",
    "model = Model(trials, N)\n",
    "x = torch.zeros([trials,N,1])\n",
    "\n",
    "tau = 0.1  # seconds\n",
    "dt = 0.02  # seconds\n"
   ]
  },
  {
   "cell_type": "code",
   "execution_count": 60,
   "metadata": {},
   "outputs": [],
   "source": [
    "# Generate the data.\n",
    "\n",
    "T = 75\n",
    "read_onset = 13  # how many last steps are read\n",
    "time = np.arange(0,T)\n",
    "u, y = generate_data(T, trials, stim_strength)"
   ]
  },
  {
   "cell_type": "code",
   "execution_count": 68,
   "metadata": {},
   "outputs": [
    {
     "name": "stdout",
     "output_type": "stream",
     "text": [
      "   0 / 200 epoch mean error is  ------------   tensor(12.0158, grad_fn=<SumBackward0>)\n",
      "   1 / 200 epoch mean error is  ------------   tensor(12.0109, grad_fn=<SumBackward0>)\n",
      "   2 / 200 epoch mean error is  ------------   tensor(12.0075, grad_fn=<SumBackward0>)\n",
      "   3 / 200 epoch mean error is  ------------   tensor(12.0048, grad_fn=<SumBackward0>)\n",
      "   4 / 200 epoch mean error is  ------------   tensor(12.0027, grad_fn=<SumBackward0>)\n",
      "   5 / 200 epoch mean error is  ------------   tensor(12.0009, grad_fn=<SumBackward0>)\n",
      "   6 / 200 epoch mean error is  ------------   tensor(11.9994, grad_fn=<SumBackward0>)\n",
      "   7 / 200 epoch mean error is  ------------   tensor(11.9981, grad_fn=<SumBackward0>)\n",
      "   8 / 200 epoch mean error is  ------------   tensor(11.9969, grad_fn=<SumBackward0>)\n",
      "   9 / 200 epoch mean error is  ------------   tensor(11.9958, grad_fn=<SumBackward0>)\n",
      "   10 / 200 epoch mean error is  ------------   tensor(11.9947, grad_fn=<SumBackward0>)\n",
      "   11 / 200 epoch mean error is  ------------   tensor(11.9937, grad_fn=<SumBackward0>)\n",
      "   12 / 200 epoch mean error is  ------------   tensor(11.9928, grad_fn=<SumBackward0>)\n",
      "   13 / 200 epoch mean error is  ------------   tensor(11.9917, grad_fn=<SumBackward0>)\n",
      "   14 / 200 epoch mean error is  ------------   tensor(11.9907, grad_fn=<SumBackward0>)\n",
      "   15 / 200 epoch mean error is  ------------   tensor(11.9895, grad_fn=<SumBackward0>)\n",
      "   16 / 200 epoch mean error is  ------------   tensor(11.9882, grad_fn=<SumBackward0>)\n",
      "   17 / 200 epoch mean error is  ------------   tensor(11.9867, grad_fn=<SumBackward0>)\n",
      "   18 / 200 epoch mean error is  ------------   tensor(11.9850, grad_fn=<SumBackward0>)\n",
      "   19 / 200 epoch mean error is  ------------   tensor(11.9830, grad_fn=<SumBackward0>)\n",
      "   20 / 200 epoch mean error is  ------------   tensor(11.9806, grad_fn=<SumBackward0>)\n",
      "   21 / 200 epoch mean error is  ------------   tensor(11.9777, grad_fn=<SumBackward0>)\n",
      "   22 / 200 epoch mean error is  ------------   tensor(11.9739, grad_fn=<SumBackward0>)\n",
      "   23 / 200 epoch mean error is  ------------   tensor(11.9689, grad_fn=<SumBackward0>)\n",
      "   24 / 200 epoch mean error is  ------------   tensor(11.9617, grad_fn=<SumBackward0>)\n",
      "   25 / 200 epoch mean error is  ------------   tensor(11.9502, grad_fn=<SumBackward0>)\n",
      "   26 / 200 epoch mean error is  ------------   tensor(11.9275, grad_fn=<SumBackward0>)\n",
      "   27 / 200 epoch mean error is  ------------   tensor(11.8607, grad_fn=<SumBackward0>)\n",
      "   28 / 200 epoch mean error is  ------------   tensor(11.5232, grad_fn=<SumBackward0>)\n",
      "   29 / 200 epoch mean error is  ------------   tensor(10.3179, grad_fn=<SumBackward0>)\n",
      "   30 / 200 epoch mean error is  ------------   tensor(8.5788, grad_fn=<SumBackward0>)\n",
      "   31 / 200 epoch mean error is  ------------   tensor(7.4919, grad_fn=<SumBackward0>)\n",
      "   32 / 200 epoch mean error is  ------------   tensor(6.9782, grad_fn=<SumBackward0>)\n",
      "   33 / 200 epoch mean error is  ------------   tensor(8.3298, grad_fn=<SumBackward0>)\n",
      "   34 / 200 epoch mean error is  ------------   tensor(8.6308, grad_fn=<SumBackward0>)\n",
      "   35 / 200 epoch mean error is  ------------   tensor(10.9179, grad_fn=<SumBackward0>)\n",
      "   36 / 200 epoch mean error is  ------------   tensor(12.2899, grad_fn=<SumBackward0>)\n",
      "   37 / 200 epoch mean error is  ------------   tensor(13.1064, grad_fn=<SumBackward0>)\n",
      "   38 / 200 epoch mean error is  ------------   tensor(13.2336, grad_fn=<SumBackward0>)\n",
      "   39 / 200 epoch mean error is  ------------   tensor(13.3216, grad_fn=<SumBackward0>)\n",
      "   40 / 200 epoch mean error is  ------------   tensor(14.1032, grad_fn=<SumBackward0>)\n",
      "   41 / 200 epoch mean error is  ------------   tensor(14.1167, grad_fn=<SumBackward0>)\n",
      "   42 / 200 epoch mean error is  ------------   tensor(14.0912, grad_fn=<SumBackward0>)\n",
      "   43 / 200 epoch mean error is  ------------   tensor(14.0339, grad_fn=<SumBackward0>)\n",
      "   44 / 200 epoch mean error is  ------------   tensor(13.9522, grad_fn=<SumBackward0>)\n",
      "   45 / 200 epoch mean error is  ------------   tensor(13.8529, grad_fn=<SumBackward0>)\n",
      "   46 / 200 epoch mean error is  ------------   tensor(13.7422, grad_fn=<SumBackward0>)\n",
      "   47 / 200 epoch mean error is  ------------   tensor(13.6253, grad_fn=<SumBackward0>)\n",
      "   48 / 200 epoch mean error is  ------------   tensor(13.5063, grad_fn=<SumBackward0>)\n",
      "   49 / 200 epoch mean error is  ------------   tensor(13.3885, grad_fn=<SumBackward0>)\n",
      "   50 / 200 epoch mean error is  ------------   tensor(13.2742, grad_fn=<SumBackward0>)\n",
      "   51 / 200 epoch mean error is  ------------   tensor(13.1650, grad_fn=<SumBackward0>)\n",
      "   52 / 200 epoch mean error is  ------------   tensor(13.0618, grad_fn=<SumBackward0>)\n",
      "   53 / 200 epoch mean error is  ------------   tensor(12.9653, grad_fn=<SumBackward0>)\n",
      "   54 / 200 epoch mean error is  ------------   tensor(12.3627, grad_fn=<SumBackward0>)\n",
      "   55 / 200 epoch mean error is  ------------   tensor(12.2999, grad_fn=<SumBackward0>)\n",
      "   56 / 200 epoch mean error is  ------------   tensor(12.2438, grad_fn=<SumBackward0>)\n",
      "   57 / 200 epoch mean error is  ------------   tensor(12.1938, grad_fn=<SumBackward0>)\n",
      "   58 / 200 epoch mean error is  ------------   tensor(12.1493, grad_fn=<SumBackward0>)\n",
      "   59 / 200 epoch mean error is  ------------   tensor(12.1097, grad_fn=<SumBackward0>)\n",
      "   60 / 200 epoch mean error is  ------------   tensor(12.0744, grad_fn=<SumBackward0>)\n",
      "   61 / 200 epoch mean error is  ------------   tensor(12.0431, grad_fn=<SumBackward0>)\n",
      "   62 / 200 epoch mean error is  ------------   tensor(12.0153, grad_fn=<SumBackward0>)\n",
      "   63 / 200 epoch mean error is  ------------   tensor(11.9906, grad_fn=<SumBackward0>)\n",
      "   64 / 200 epoch mean error is  ------------   tensor(11.6033, grad_fn=<SumBackward0>)\n",
      "   65 / 200 epoch mean error is  ------------   tensor(10.8869, grad_fn=<SumBackward0>)\n",
      "   66 / 200 epoch mean error is  ------------   tensor(10.5523, grad_fn=<SumBackward0>)\n",
      "   67 / 200 epoch mean error is  ------------   tensor(10.5692, grad_fn=<SumBackward0>)\n",
      "   68 / 200 epoch mean error is  ------------   tensor(10.5831, grad_fn=<SumBackward0>)\n",
      "   69 / 200 epoch mean error is  ------------   tensor(10.5942, grad_fn=<SumBackward0>)\n",
      "   70 / 200 epoch mean error is  ------------   tensor(10.6025, grad_fn=<SumBackward0>)\n",
      "   71 / 200 epoch mean error is  ------------   tensor(10.6083, grad_fn=<SumBackward0>)\n",
      "   72 / 200 epoch mean error is  ------------   tensor(10.6118, grad_fn=<SumBackward0>)\n",
      "   73 / 200 epoch mean error is  ------------   tensor(10.6130, grad_fn=<SumBackward0>)\n",
      "   74 / 200 epoch mean error is  ------------   tensor(10.6123, grad_fn=<SumBackward0>)\n",
      "   75 / 200 epoch mean error is  ------------   tensor(10.6098, grad_fn=<SumBackward0>)\n",
      "   76 / 200 epoch mean error is  ------------   tensor(10.6057, grad_fn=<SumBackward0>)\n",
      "   77 / 200 epoch mean error is  ------------   tensor(10.6002, grad_fn=<SumBackward0>)\n",
      "   78 / 200 epoch mean error is  ------------   tensor(10.5935, grad_fn=<SumBackward0>)\n",
      "   79 / 200 epoch mean error is  ------------   tensor(10.5856, grad_fn=<SumBackward0>)\n",
      "   80 / 200 epoch mean error is  ------------   tensor(10.5769, grad_fn=<SumBackward0>)\n",
      "   81 / 200 epoch mean error is  ------------   tensor(10.5674, grad_fn=<SumBackward0>)\n",
      "   82 / 200 epoch mean error is  ------------   tensor(10.5573, grad_fn=<SumBackward0>)\n",
      "   83 / 200 epoch mean error is  ------------   tensor(10.5467, grad_fn=<SumBackward0>)\n",
      "   84 / 200 epoch mean error is  ------------   tensor(10.5357, grad_fn=<SumBackward0>)\n",
      "   85 / 200 epoch mean error is  ------------   tensor(10.8826, grad_fn=<SumBackward0>)\n",
      "   86 / 200 epoch mean error is  ------------   tensor(11.6020, grad_fn=<SumBackward0>)\n",
      "   87 / 200 epoch mean error is  ------------   tensor(11.9742, grad_fn=<SumBackward0>)\n",
      "   88 / 200 epoch mean error is  ------------   tensor(11.9805, grad_fn=<SumBackward0>)\n",
      "   89 / 200 epoch mean error is  ------------   tensor(11.9851, grad_fn=<SumBackward0>)\n",
      "   90 / 200 epoch mean error is  ------------   tensor(11.9880, grad_fn=<SumBackward0>)\n",
      "   91 / 200 epoch mean error is  ------------   tensor(11.9892, grad_fn=<SumBackward0>)\n",
      "   92 / 200 epoch mean error is  ------------   tensor(11.9890, grad_fn=<SumBackward0>)\n",
      "   93 / 200 epoch mean error is  ------------   tensor(11.9875, grad_fn=<SumBackward0>)\n"
     ]
    },
    {
     "name": "stdout",
     "output_type": "stream",
     "text": [
      "   94 / 200 epoch mean error is  ------------   tensor(11.9847, grad_fn=<SumBackward0>)\n",
      "   95 / 200 epoch mean error is  ------------   tensor(11.9810, grad_fn=<SumBackward0>)\n",
      "   96 / 200 epoch mean error is  ------------   tensor(11.9763, grad_fn=<SumBackward0>)\n",
      "   97 / 200 epoch mean error is  ------------   tensor(11.2383, grad_fn=<SumBackward0>)\n",
      "   98 / 200 epoch mean error is  ------------   tensor(11.2385, grad_fn=<SumBackward0>)\n",
      "   99 / 200 epoch mean error is  ------------   tensor(10.8792, grad_fn=<SumBackward0>)\n",
      "   100 / 200 epoch mean error is  ------------   tensor(10.5216, grad_fn=<SumBackward0>)\n",
      "   101 / 200 epoch mean error is  ------------   tensor(10.5232, grad_fn=<SumBackward0>)\n",
      "   102 / 200 epoch mean error is  ------------   tensor(10.5231, grad_fn=<SumBackward0>)\n",
      "   103 / 200 epoch mean error is  ------------   tensor(10.5213, grad_fn=<SumBackward0>)\n",
      "   104 / 200 epoch mean error is  ------------   tensor(10.5182, grad_fn=<SumBackward0>)\n",
      "   105 / 200 epoch mean error is  ------------   tensor(10.8768, grad_fn=<SumBackward0>)\n",
      "   106 / 200 epoch mean error is  ------------   tensor(10.8743, grad_fn=<SumBackward0>)\n",
      "   107 / 200 epoch mean error is  ------------   tensor(11.2380, grad_fn=<SumBackward0>)\n",
      "   108 / 200 epoch mean error is  ------------   tensor(11.2379, grad_fn=<SumBackward0>)\n",
      "   109 / 200 epoch mean error is  ------------   tensor(11.2378, grad_fn=<SumBackward0>)\n",
      "   110 / 200 epoch mean error is  ------------   tensor(11.9866, grad_fn=<SumBackward0>)\n",
      "   111 / 200 epoch mean error is  ------------   tensor(11.9885, grad_fn=<SumBackward0>)\n",
      "   112 / 200 epoch mean error is  ------------   tensor(11.9887, grad_fn=<SumBackward0>)\n",
      "   113 / 200 epoch mean error is  ------------   tensor(11.9874, grad_fn=<SumBackward0>)\n",
      "   114 / 200 epoch mean error is  ------------   tensor(11.2377, grad_fn=<SumBackward0>)\n",
      "   115 / 200 epoch mean error is  ------------   tensor(11.2377, grad_fn=<SumBackward0>)\n",
      "   116 / 200 epoch mean error is  ------------   tensor(10.8686, grad_fn=<SumBackward0>)\n",
      "   117 / 200 epoch mean error is  ------------   tensor(10.8692, grad_fn=<SumBackward0>)\n",
      "   118 / 200 epoch mean error is  ------------   tensor(10.8693, grad_fn=<SumBackward0>)\n",
      "   119 / 200 epoch mean error is  ------------   tensor(10.8690, grad_fn=<SumBackward0>)\n",
      "   120 / 200 epoch mean error is  ------------   tensor(10.8684, grad_fn=<SumBackward0>)\n",
      "   121 / 200 epoch mean error is  ------------   tensor(10.8674, grad_fn=<SumBackward0>)\n",
      "   122 / 200 epoch mean error is  ------------   tensor(10.8661, grad_fn=<SumBackward0>)\n",
      "   123 / 200 epoch mean error is  ------------   tensor(10.8646, grad_fn=<SumBackward0>)\n",
      "   124 / 200 epoch mean error is  ------------   tensor(11.2377, grad_fn=<SumBackward0>)\n",
      "   125 / 200 epoch mean error is  ------------   tensor(11.2377, grad_fn=<SumBackward0>)\n",
      "   126 / 200 epoch mean error is  ------------   tensor(11.2378, grad_fn=<SumBackward0>)\n",
      "   127 / 200 epoch mean error is  ------------   tensor(11.6192, grad_fn=<SumBackward0>)\n",
      "   128 / 200 epoch mean error is  ------------   tensor(11.6200, grad_fn=<SumBackward0>)\n",
      "   129 / 200 epoch mean error is  ------------   tensor(11.6202, grad_fn=<SumBackward0>)\n",
      "   130 / 200 epoch mean error is  ------------   tensor(11.2378, grad_fn=<SumBackward0>)\n",
      "   131 / 200 epoch mean error is  ------------   tensor(11.2378, grad_fn=<SumBackward0>)\n",
      "   132 / 200 epoch mean error is  ------------   tensor(10.8586, grad_fn=<SumBackward0>)\n",
      "   133 / 200 epoch mean error is  ------------   tensor(10.8585, grad_fn=<SumBackward0>)\n",
      "   134 / 200 epoch mean error is  ------------   tensor(10.8580, grad_fn=<SumBackward0>)\n",
      "   135 / 200 epoch mean error is  ------------   tensor(10.8573, grad_fn=<SumBackward0>)\n",
      "   136 / 200 epoch mean error is  ------------   tensor(10.8563, grad_fn=<SumBackward0>)\n",
      "   137 / 200 epoch mean error is  ------------   tensor(11.2381, grad_fn=<SumBackward0>)\n",
      "   138 / 200 epoch mean error is  ------------   tensor(11.6249, grad_fn=<SumBackward0>)\n",
      "   139 / 200 epoch mean error is  ------------   tensor(11.6255, grad_fn=<SumBackward0>)\n",
      "   140 / 200 epoch mean error is  ------------   tensor(11.6256, grad_fn=<SumBackward0>)\n",
      "   141 / 200 epoch mean error is  ------------   tensor(10.8537, grad_fn=<SumBackward0>)\n",
      "   142 / 200 epoch mean error is  ------------   tensor(10.8537, grad_fn=<SumBackward0>)\n",
      "   143 / 200 epoch mean error is  ------------   tensor(10.8534, grad_fn=<SumBackward0>)\n",
      "   144 / 200 epoch mean error is  ------------   tensor(10.8528, grad_fn=<SumBackward0>)\n",
      "   145 / 200 epoch mean error is  ------------   tensor(10.8519, grad_fn=<SumBackward0>)\n",
      "   146 / 200 epoch mean error is  ------------   tensor(10.8509, grad_fn=<SumBackward0>)\n",
      "   147 / 200 epoch mean error is  ------------   tensor(11.6305, grad_fn=<SumBackward0>)\n",
      "   148 / 200 epoch mean error is  ------------   tensor(11.6315, grad_fn=<SumBackward0>)\n",
      "   149 / 200 epoch mean error is  ------------   tensor(11.2415, grad_fn=<SumBackward0>)\n",
      "   150 / 200 epoch mean error is  ------------   tensor(11.2415, grad_fn=<SumBackward0>)\n",
      "   151 / 200 epoch mean error is  ------------   tensor(10.8486, grad_fn=<SumBackward0>)\n",
      "   152 / 200 epoch mean error is  ------------   tensor(10.8483, grad_fn=<SumBackward0>)\n",
      "   153 / 200 epoch mean error is  ------------   tensor(10.8478, grad_fn=<SumBackward0>)\n",
      "   154 / 200 epoch mean error is  ------------   tensor(11.2419, grad_fn=<SumBackward0>)\n",
      "   155 / 200 epoch mean error is  ------------   tensor(11.2421, grad_fn=<SumBackward0>)\n",
      "   156 / 200 epoch mean error is  ------------   tensor(11.2422, grad_fn=<SumBackward0>)\n",
      "   157 / 200 epoch mean error is  ------------   tensor(11.2423, grad_fn=<SumBackward0>)\n",
      "   158 / 200 epoch mean error is  ------------   tensor(11.2423, grad_fn=<SumBackward0>)\n",
      "   159 / 200 epoch mean error is  ------------   tensor(10.8452, grad_fn=<SumBackward0>)\n",
      "   160 / 200 epoch mean error is  ------------   tensor(10.8449, grad_fn=<SumBackward0>)\n",
      "   161 / 200 epoch mean error is  ------------   tensor(11.2426, grad_fn=<SumBackward0>)\n",
      "   162 / 200 epoch mean error is  ------------   tensor(11.2428, grad_fn=<SumBackward0>)\n",
      "   163 / 200 epoch mean error is  ------------   tensor(10.8435, grad_fn=<SumBackward0>)\n",
      "   164 / 200 epoch mean error is  ------------   tensor(11.2431, grad_fn=<SumBackward0>)\n",
      "   165 / 200 epoch mean error is  ------------   tensor(11.2432, grad_fn=<SumBackward0>)\n",
      "   166 / 200 epoch mean error is  ------------   tensor(10.8424, grad_fn=<SumBackward0>)\n",
      "   167 / 200 epoch mean error is  ------------   tensor(10.8420, grad_fn=<SumBackward0>)\n",
      "   168 / 200 epoch mean error is  ------------   tensor(11.2437, grad_fn=<SumBackward0>)\n",
      "   169 / 200 epoch mean error is  ------------   tensor(11.2439, grad_fn=<SumBackward0>)\n",
      "   170 / 200 epoch mean error is  ------------   tensor(11.2440, grad_fn=<SumBackward0>)\n",
      "   171 / 200 epoch mean error is  ------------   tensor(10.4376, grad_fn=<SumBackward0>)\n",
      "   172 / 200 epoch mean error is  ------------   tensor(11.2444, grad_fn=<SumBackward0>)\n",
      "   173 / 200 epoch mean error is  ------------   tensor(11.2446, grad_fn=<SumBackward0>)\n",
      "   174 / 200 epoch mean error is  ------------   tensor(10.8397, grad_fn=<SumBackward0>)\n",
      "   175 / 200 epoch mean error is  ------------   tensor(11.2451, grad_fn=<SumBackward0>)\n",
      "   176 / 200 epoch mean error is  ------------   tensor(10.8388, grad_fn=<SumBackward0>)\n",
      "   177 / 200 epoch mean error is  ------------   tensor(11.2455, grad_fn=<SumBackward0>)\n",
      "   178 / 200 epoch mean error is  ------------   tensor(10.8379, grad_fn=<SumBackward0>)\n",
      "   179 / 200 epoch mean error is  ------------   tensor(11.2460, grad_fn=<SumBackward0>)\n",
      "   180 / 200 epoch mean error is  ------------   tensor(10.8370, grad_fn=<SumBackward0>)\n"
     ]
    },
    {
     "ename": "KeyboardInterrupt",
     "evalue": "",
     "output_type": "error",
     "traceback": [
      "\u001b[1;31m---------------------------------------------------------------------------\u001b[0m",
      "\u001b[1;31mKeyboardInterrupt\u001b[0m                         Traceback (most recent call last)",
      "\u001b[1;32m<ipython-input-68-6180bf9af6db>\u001b[0m in \u001b[0;36m<module>\u001b[1;34m\u001b[0m\n\u001b[0;32m     41\u001b[0m \u001b[1;33m\u001b[0m\u001b[0m\n\u001b[0;32m     42\u001b[0m             \u001b[1;31m# Computation and storage of the results.\u001b[0m\u001b[1;33m\u001b[0m\u001b[1;33m\u001b[0m\u001b[1;33m\u001b[0m\u001b[0m\n\u001b[1;32m---> 43\u001b[1;33m             \u001b[0mx\u001b[0m\u001b[1;33m[\u001b[0m\u001b[0mk\u001b[0m\u001b[1;33m+\u001b[0m\u001b[1;36m1\u001b[0m\u001b[1;33m]\u001b[0m\u001b[1;33m,\u001b[0m \u001b[0mz\u001b[0m \u001b[1;33m=\u001b[0m \u001b[0mmodel\u001b[0m\u001b[1;33m.\u001b[0m\u001b[0mforward\u001b[0m\u001b[1;33m(\u001b[0m\u001b[0mx\u001b[0m\u001b[1;33m[\u001b[0m\u001b[0mk\u001b[0m\u001b[1;33m]\u001b[0m\u001b[1;33m,\u001b[0m \u001b[0mu\u001b[0m\u001b[1;33m[\u001b[0m\u001b[0mt\u001b[0m\u001b[1;33m]\u001b[0m\u001b[1;33m,\u001b[0m \u001b[0mtau\u001b[0m\u001b[1;33m,\u001b[0m \u001b[0mdt\u001b[0m\u001b[1;33m)\u001b[0m\u001b[1;33m\u001b[0m\u001b[1;33m\u001b[0m\u001b[0m\n\u001b[0m\u001b[0;32m     44\u001b[0m             \u001b[0mz_squeezed\u001b[0m \u001b[1;33m=\u001b[0m \u001b[0mz\u001b[0m\u001b[1;33m.\u001b[0m\u001b[0msqueeze\u001b[0m\u001b[1;33m(\u001b[0m\u001b[1;33m)\u001b[0m\u001b[1;33m\u001b[0m\u001b[1;33m\u001b[0m\u001b[0m\n\u001b[0;32m     45\u001b[0m \u001b[1;33m\u001b[0m\u001b[0m\n",
      "\u001b[1;32m<ipython-input-57-923cbb04cfd5>\u001b[0m in \u001b[0;36mforward\u001b[1;34m(self, x, u_of_t, tau, dt)\u001b[0m\n\u001b[0;32m     20\u001b[0m         \u001b[0mReading\u001b[0m \u001b[0mthrough\u001b[0m \u001b[0melectrode\u001b[0m \u001b[0mweights\u001b[0m\u001b[1;33m.\u001b[0m\u001b[1;33m\u001b[0m\u001b[1;33m\u001b[0m\u001b[0m\n\u001b[0;32m     21\u001b[0m         \"\"\"\n\u001b[1;32m---> 22\u001b[1;33m         \u001b[0mx1\u001b[0m \u001b[1;33m=\u001b[0m \u001b[0mself\u001b[0m\u001b[1;33m.\u001b[0m\u001b[0mlr_rnn\u001b[0m\u001b[1;33m(\u001b[0m\u001b[0mx\u001b[0m\u001b[1;33m,\u001b[0m \u001b[0mu_of_t\u001b[0m\u001b[1;33m,\u001b[0m \u001b[0mtau\u001b[0m\u001b[1;33m,\u001b[0m \u001b[0mdt\u001b[0m\u001b[1;33m)\u001b[0m\u001b[1;33m\u001b[0m\u001b[1;33m\u001b[0m\u001b[0m\n\u001b[0m\u001b[0;32m     23\u001b[0m \u001b[1;33m\u001b[0m\u001b[0m\n\u001b[0;32m     24\u001b[0m         \u001b[0mtorch\u001b[0m\u001b[1;33m.\u001b[0m\u001b[0mautograd\u001b[0m\u001b[1;33m.\u001b[0m\u001b[0mset_detect_anomaly\u001b[0m\u001b[1;33m(\u001b[0m\u001b[1;32mTrue\u001b[0m\u001b[1;33m)\u001b[0m\u001b[1;33m\u001b[0m\u001b[1;33m\u001b[0m\u001b[0m\n",
      "\u001b[1;32m~\\anaconda3\\lib\\site-packages\\torch\\nn\\modules\\module.py\u001b[0m in \u001b[0;36m_call_impl\u001b[1;34m(self, *input, **kwargs)\u001b[0m\n\u001b[0;32m    725\u001b[0m             \u001b[0mresult\u001b[0m \u001b[1;33m=\u001b[0m \u001b[0mself\u001b[0m\u001b[1;33m.\u001b[0m\u001b[0m_slow_forward\u001b[0m\u001b[1;33m(\u001b[0m\u001b[1;33m*\u001b[0m\u001b[0minput\u001b[0m\u001b[1;33m,\u001b[0m \u001b[1;33m**\u001b[0m\u001b[0mkwargs\u001b[0m\u001b[1;33m)\u001b[0m\u001b[1;33m\u001b[0m\u001b[1;33m\u001b[0m\u001b[0m\n\u001b[0;32m    726\u001b[0m         \u001b[1;32melse\u001b[0m\u001b[1;33m:\u001b[0m\u001b[1;33m\u001b[0m\u001b[1;33m\u001b[0m\u001b[0m\n\u001b[1;32m--> 727\u001b[1;33m             \u001b[0mresult\u001b[0m \u001b[1;33m=\u001b[0m \u001b[0mself\u001b[0m\u001b[1;33m.\u001b[0m\u001b[0mforward\u001b[0m\u001b[1;33m(\u001b[0m\u001b[1;33m*\u001b[0m\u001b[0minput\u001b[0m\u001b[1;33m,\u001b[0m \u001b[1;33m**\u001b[0m\u001b[0mkwargs\u001b[0m\u001b[1;33m)\u001b[0m\u001b[1;33m\u001b[0m\u001b[1;33m\u001b[0m\u001b[0m\n\u001b[0m\u001b[0;32m    728\u001b[0m         for hook in itertools.chain(\n\u001b[0;32m    729\u001b[0m                 \u001b[0m_global_forward_hooks\u001b[0m\u001b[1;33m.\u001b[0m\u001b[0mvalues\u001b[0m\u001b[1;33m(\u001b[0m\u001b[1;33m)\u001b[0m\u001b[1;33m,\u001b[0m\u001b[1;33m\u001b[0m\u001b[1;33m\u001b[0m\u001b[0m\n",
      "\u001b[1;32m<ipython-input-26-32380c45c340>\u001b[0m in \u001b[0;36mforward\u001b[1;34m(self, x, u_of_t, tau, dt)\u001b[0m\n\u001b[0;32m     22\u001b[0m     \u001b[1;32mdef\u001b[0m \u001b[0mforward\u001b[0m\u001b[1;33m(\u001b[0m\u001b[0mself\u001b[0m\u001b[1;33m,\u001b[0m \u001b[0mx\u001b[0m\u001b[1;33m,\u001b[0m \u001b[0mu_of_t\u001b[0m\u001b[1;33m,\u001b[0m \u001b[0mtau\u001b[0m\u001b[1;33m,\u001b[0m \u001b[0mdt\u001b[0m\u001b[1;33m)\u001b[0m\u001b[1;33m:\u001b[0m\u001b[1;33m\u001b[0m\u001b[1;33m\u001b[0m\u001b[0m\n\u001b[0;32m     23\u001b[0m         \u001b[1;31m# It's an Euler method.\u001b[0m\u001b[1;33m\u001b[0m\u001b[1;33m\u001b[0m\u001b[1;33m\u001b[0m\u001b[0m\n\u001b[1;32m---> 24\u001b[1;33m         \u001b[1;32mreturn\u001b[0m \u001b[0mx\u001b[0m \u001b[1;33m+\u001b[0m  \u001b[0mdt\u001b[0m \u001b[1;33m*\u001b[0m \u001b[0mdynamics\u001b[0m\u001b[1;33m(\u001b[0m\u001b[0mx\u001b[0m\u001b[1;33m,\u001b[0m \u001b[0mu_of_t\u001b[0m\u001b[1;33m,\u001b[0m \u001b[0mtau\u001b[0m\u001b[1;33m,\u001b[0m \u001b[0mself\u001b[0m\u001b[1;33m.\u001b[0m\u001b[0mm\u001b[0m\u001b[1;33m,\u001b[0m \u001b[0mself\u001b[0m\u001b[1;33m.\u001b[0m\u001b[0mn\u001b[0m\u001b[1;33m,\u001b[0m \u001b[0mself\u001b[0m\u001b[1;33m.\u001b[0m\u001b[0mI\u001b[0m\u001b[1;33m)\u001b[0m\u001b[1;33m\u001b[0m\u001b[1;33m\u001b[0m\u001b[0m\n\u001b[0m\u001b[0;32m     25\u001b[0m \u001b[1;33m\u001b[0m\u001b[0m\n",
      "\u001b[1;32m<ipython-input-15-eed4a4aa7cfe>\u001b[0m in \u001b[0;36mdynamics\u001b[1;34m(x, u_of_t, tau, m, n, I)\u001b[0m\n\u001b[0;32m      2\u001b[0m \u001b[1;33m\u001b[0m\u001b[0m\n\u001b[0;32m      3\u001b[0m \u001b[1;32mdef\u001b[0m \u001b[0mdynamics\u001b[0m\u001b[1;33m(\u001b[0m\u001b[0mx\u001b[0m\u001b[1;33m,\u001b[0m \u001b[0mu_of_t\u001b[0m\u001b[1;33m,\u001b[0m \u001b[0mtau\u001b[0m\u001b[1;33m,\u001b[0m \u001b[0mm\u001b[0m\u001b[1;33m,\u001b[0m\u001b[0mn\u001b[0m\u001b[1;33m,\u001b[0m\u001b[0mI\u001b[0m\u001b[1;33m)\u001b[0m\u001b[1;33m:\u001b[0m\u001b[1;33m\u001b[0m\u001b[1;33m\u001b[0m\u001b[0m\n\u001b[1;32m----> 4\u001b[1;33m     \u001b[0mJ_of_phi_x\u001b[0m \u001b[1;33m=\u001b[0m \u001b[0mtorch\u001b[0m\u001b[1;33m.\u001b[0m\u001b[0mdiv\u001b[0m\u001b[1;33m(\u001b[0m\u001b[0mtorch\u001b[0m\u001b[1;33m.\u001b[0m\u001b[0mmatmul\u001b[0m\u001b[1;33m(\u001b[0m\u001b[0mtorch\u001b[0m\u001b[1;33m.\u001b[0m\u001b[0mmatmul\u001b[0m\u001b[1;33m(\u001b[0m\u001b[0mm\u001b[0m\u001b[1;33m,\u001b[0m \u001b[0mn\u001b[0m\u001b[1;33m)\u001b[0m\u001b[1;33m.\u001b[0m\u001b[0mfloat\u001b[0m\u001b[1;33m(\u001b[0m\u001b[1;33m)\u001b[0m\u001b[1;33m,\u001b[0m \u001b[0mtorch\u001b[0m\u001b[1;33m.\u001b[0m\u001b[0mtanh\u001b[0m\u001b[1;33m(\u001b[0m\u001b[0mx\u001b[0m\u001b[1;33m)\u001b[0m\u001b[1;33m.\u001b[0m\u001b[0mfloat\u001b[0m\u001b[1;33m(\u001b[0m\u001b[1;33m)\u001b[0m\u001b[1;33m)\u001b[0m\u001b[1;33m,\u001b[0m \u001b[0mlen\u001b[0m\u001b[1;33m(\u001b[0m\u001b[0mn\u001b[0m\u001b[1;33m)\u001b[0m\u001b[1;33m)\u001b[0m\u001b[1;33m\u001b[0m\u001b[1;33m\u001b[0m\u001b[0m\n\u001b[0m\u001b[0;32m      5\u001b[0m \u001b[1;33m\u001b[0m\u001b[0m\n\u001b[0;32m      6\u001b[0m     \u001b[1;32mreturn\u001b[0m \u001b[1;33m(\u001b[0m\u001b[1;33m-\u001b[0m\u001b[0mx\u001b[0m \u001b[1;33m+\u001b[0m \u001b[0mJ_of_phi_x\u001b[0m \u001b[1;33m+\u001b[0m \u001b[0mu_of_t\u001b[0m\u001b[1;33m*\u001b[0m\u001b[0mI\u001b[0m\u001b[1;33m)\u001b[0m \u001b[1;33m/\u001b[0m \u001b[0mtau\u001b[0m  \u001b[1;31m# is broadcasting working for input and in weigths?\u001b[0m\u001b[1;33m\u001b[0m\u001b[1;33m\u001b[0m\u001b[0m\n",
      "\u001b[1;32m~\\anaconda3\\lib\\traceback.py\u001b[0m in \u001b[0;36mformat_stack\u001b[1;34m(f, limit)\u001b[0m\n\u001b[0;32m    195\u001b[0m     \u001b[1;32mif\u001b[0m \u001b[0mf\u001b[0m \u001b[1;32mis\u001b[0m \u001b[1;32mNone\u001b[0m\u001b[1;33m:\u001b[0m\u001b[1;33m\u001b[0m\u001b[1;33m\u001b[0m\u001b[0m\n\u001b[0;32m    196\u001b[0m         \u001b[0mf\u001b[0m \u001b[1;33m=\u001b[0m \u001b[0msys\u001b[0m\u001b[1;33m.\u001b[0m\u001b[0m_getframe\u001b[0m\u001b[1;33m(\u001b[0m\u001b[1;33m)\u001b[0m\u001b[1;33m.\u001b[0m\u001b[0mf_back\u001b[0m\u001b[1;33m\u001b[0m\u001b[1;33m\u001b[0m\u001b[0m\n\u001b[1;32m--> 197\u001b[1;33m     \u001b[1;32mreturn\u001b[0m \u001b[0mformat_list\u001b[0m\u001b[1;33m(\u001b[0m\u001b[0mextract_stack\u001b[0m\u001b[1;33m(\u001b[0m\u001b[0mf\u001b[0m\u001b[1;33m,\u001b[0m \u001b[0mlimit\u001b[0m\u001b[1;33m=\u001b[0m\u001b[0mlimit\u001b[0m\u001b[1;33m)\u001b[0m\u001b[1;33m)\u001b[0m\u001b[1;33m\u001b[0m\u001b[1;33m\u001b[0m\u001b[0m\n\u001b[0m\u001b[0;32m    198\u001b[0m \u001b[1;33m\u001b[0m\u001b[0m\n\u001b[0;32m    199\u001b[0m \u001b[1;33m\u001b[0m\u001b[0m\n",
      "\u001b[1;32m~\\anaconda3\\lib\\traceback.py\u001b[0m in \u001b[0;36mextract_stack\u001b[1;34m(f, limit)\u001b[0m\n\u001b[0;32m    209\u001b[0m     \u001b[1;32mif\u001b[0m \u001b[0mf\u001b[0m \u001b[1;32mis\u001b[0m \u001b[1;32mNone\u001b[0m\u001b[1;33m:\u001b[0m\u001b[1;33m\u001b[0m\u001b[1;33m\u001b[0m\u001b[0m\n\u001b[0;32m    210\u001b[0m         \u001b[0mf\u001b[0m \u001b[1;33m=\u001b[0m \u001b[0msys\u001b[0m\u001b[1;33m.\u001b[0m\u001b[0m_getframe\u001b[0m\u001b[1;33m(\u001b[0m\u001b[1;33m)\u001b[0m\u001b[1;33m.\u001b[0m\u001b[0mf_back\u001b[0m\u001b[1;33m\u001b[0m\u001b[1;33m\u001b[0m\u001b[0m\n\u001b[1;32m--> 211\u001b[1;33m     \u001b[0mstack\u001b[0m \u001b[1;33m=\u001b[0m \u001b[0mStackSummary\u001b[0m\u001b[1;33m.\u001b[0m\u001b[0mextract\u001b[0m\u001b[1;33m(\u001b[0m\u001b[0mwalk_stack\u001b[0m\u001b[1;33m(\u001b[0m\u001b[0mf\u001b[0m\u001b[1;33m)\u001b[0m\u001b[1;33m,\u001b[0m \u001b[0mlimit\u001b[0m\u001b[1;33m=\u001b[0m\u001b[0mlimit\u001b[0m\u001b[1;33m)\u001b[0m\u001b[1;33m\u001b[0m\u001b[1;33m\u001b[0m\u001b[0m\n\u001b[0m\u001b[0;32m    212\u001b[0m     \u001b[0mstack\u001b[0m\u001b[1;33m.\u001b[0m\u001b[0mreverse\u001b[0m\u001b[1;33m(\u001b[0m\u001b[1;33m)\u001b[0m\u001b[1;33m\u001b[0m\u001b[1;33m\u001b[0m\u001b[0m\n\u001b[0;32m    213\u001b[0m     \u001b[1;32mreturn\u001b[0m \u001b[0mstack\u001b[0m\u001b[1;33m\u001b[0m\u001b[1;33m\u001b[0m\u001b[0m\n",
      "\u001b[1;32m~\\anaconda3\\lib\\traceback.py\u001b[0m in \u001b[0;36mextract\u001b[1;34m(klass, frame_gen, limit, lookup_lines, capture_locals)\u001b[0m\n\u001b[0;32m    360\u001b[0m                 filename, lineno, name, lookup_line=False, locals=f_locals))\n\u001b[0;32m    361\u001b[0m         \u001b[1;32mfor\u001b[0m \u001b[0mfilename\u001b[0m \u001b[1;32min\u001b[0m \u001b[0mfnames\u001b[0m\u001b[1;33m:\u001b[0m\u001b[1;33m\u001b[0m\u001b[1;33m\u001b[0m\u001b[0m\n\u001b[1;32m--> 362\u001b[1;33m             \u001b[0mlinecache\u001b[0m\u001b[1;33m.\u001b[0m\u001b[0mcheckcache\u001b[0m\u001b[1;33m(\u001b[0m\u001b[0mfilename\u001b[0m\u001b[1;33m)\u001b[0m\u001b[1;33m\u001b[0m\u001b[1;33m\u001b[0m\u001b[0m\n\u001b[0m\u001b[0;32m    363\u001b[0m         \u001b[1;31m# If immediate lookup was desired, trigger lookups now.\u001b[0m\u001b[1;33m\u001b[0m\u001b[1;33m\u001b[0m\u001b[1;33m\u001b[0m\u001b[0m\n\u001b[0;32m    364\u001b[0m         \u001b[1;32mif\u001b[0m \u001b[0mlookup_lines\u001b[0m\u001b[1;33m:\u001b[0m\u001b[1;33m\u001b[0m\u001b[1;33m\u001b[0m\u001b[0m\n",
      "\u001b[1;32m~\\anaconda3\\lib\\site-packages\\IPython\\core\\compilerop.py\u001b[0m in \u001b[0;36mcheck_linecache_ipython\u001b[1;34m(*args)\u001b[0m\n\u001b[0;32m    155\u001b[0m     \"\"\"\n\u001b[0;32m    156\u001b[0m     \u001b[1;31m# First call the original checkcache as intended\u001b[0m\u001b[1;33m\u001b[0m\u001b[1;33m\u001b[0m\u001b[1;33m\u001b[0m\u001b[0m\n\u001b[1;32m--> 157\u001b[1;33m     \u001b[0mlinecache\u001b[0m\u001b[1;33m.\u001b[0m\u001b[0m_checkcache_ori\u001b[0m\u001b[1;33m(\u001b[0m\u001b[1;33m*\u001b[0m\u001b[0margs\u001b[0m\u001b[1;33m)\u001b[0m\u001b[1;33m\u001b[0m\u001b[1;33m\u001b[0m\u001b[0m\n\u001b[0m\u001b[0;32m    158\u001b[0m     \u001b[1;31m# Then, update back the cache with our data, so that tracebacks related\u001b[0m\u001b[1;33m\u001b[0m\u001b[1;33m\u001b[0m\u001b[1;33m\u001b[0m\u001b[0m\n\u001b[0;32m    159\u001b[0m     \u001b[1;31m# to our compiled codes can be produced.\u001b[0m\u001b[1;33m\u001b[0m\u001b[1;33m\u001b[0m\u001b[1;33m\u001b[0m\u001b[0m\n",
      "\u001b[1;32m~\\anaconda3\\lib\\linecache.py\u001b[0m in \u001b[0;36mcheckcache\u001b[1;34m(filename)\u001b[0m\n\u001b[0;32m     72\u001b[0m             \u001b[1;32mcontinue\u001b[0m   \u001b[1;31m# no-op for files loaded via a __loader__\u001b[0m\u001b[1;33m\u001b[0m\u001b[1;33m\u001b[0m\u001b[0m\n\u001b[0;32m     73\u001b[0m         \u001b[1;32mtry\u001b[0m\u001b[1;33m:\u001b[0m\u001b[1;33m\u001b[0m\u001b[1;33m\u001b[0m\u001b[0m\n\u001b[1;32m---> 74\u001b[1;33m             \u001b[0mstat\u001b[0m \u001b[1;33m=\u001b[0m \u001b[0mos\u001b[0m\u001b[1;33m.\u001b[0m\u001b[0mstat\u001b[0m\u001b[1;33m(\u001b[0m\u001b[0mfullname\u001b[0m\u001b[1;33m)\u001b[0m\u001b[1;33m\u001b[0m\u001b[1;33m\u001b[0m\u001b[0m\n\u001b[0m\u001b[0;32m     75\u001b[0m         \u001b[1;32mexcept\u001b[0m \u001b[0mOSError\u001b[0m\u001b[1;33m:\u001b[0m\u001b[1;33m\u001b[0m\u001b[1;33m\u001b[0m\u001b[0m\n\u001b[0;32m     76\u001b[0m             \u001b[1;32mdel\u001b[0m \u001b[0mcache\u001b[0m\u001b[1;33m[\u001b[0m\u001b[0mfilename\u001b[0m\u001b[1;33m]\u001b[0m\u001b[1;33m\u001b[0m\u001b[1;33m\u001b[0m\u001b[0m\n",
      "\u001b[1;31mKeyboardInterrupt\u001b[0m: "
     ]
    }
   ],
   "source": [
    "\"\"\"\n",
    "Training:\n",
    "\n",
    "From the readout onset the network is unrolled \n",
    "\n",
    "and the backpropagation goes back in time until the beginning of the readout.\n",
    "\n",
    "Backprop is called after computing the error on the whole batch.\n",
    "\n",
    "\n",
    "\"\"\"\n",
    "\n",
    "epochs = 200\n",
    "\n",
    "mse_loss = nn.MSELoss(reduction='mean')\n",
    "optimizer = torch.optim.Adam(model.parameters(), lr = 0.005)\n",
    "loss_record = []\n",
    "\n",
    "for epoch in range(epochs):\n",
    "\n",
    "        target = torch.zeros([read_onset, trials])\n",
    "        x = [None]*(read_onset+1)\n",
    "        x[0] = torch.zeros([trials, model.N, 1])\n",
    "        losses = torch.zeros(read_onset)\n",
    "\n",
    "        for t in range(T-read_onset):\n",
    "\n",
    "            x[0] = model.lr_rnn.forward(x[0], u[t], tau, dt)\n",
    "            \n",
    "\n",
    "        x[0].detach_()\n",
    "        \n",
    "        \n",
    "        \n",
    "        for k in range(read_onset-1):\n",
    "\n",
    "            # Initializations.\n",
    "            t = T - read_onset + k        \n",
    "            \n",
    "            \n",
    "            # Computation and storage of the results.                \n",
    "            x[k+1], z = model.forward(x[k], u[t], tau, dt)\n",
    "            z_squeezed = z.squeeze()\n",
    "\n",
    "            \n",
    "            # use the error or mse.\n",
    "            losses[k+1] = mse_loss(z_squeezed, y[t+1, :].float())\n",
    "            \n",
    "            # TODO: sum and store loss through time\n",
    "            \n",
    "            \n",
    "            \n",
    "            \n",
    "            \n",
    "        optimizer.zero_grad()  # Reset the gradient values.\n",
    "        torch.autograd.set_detect_anomaly(True)\n",
    " \n",
    "        loss = torch.sum(losses)\n",
    "        losses[-1].backward()  # Compute the gradients.\n",
    "\n",
    "        optimizer.step()  # Parameters update.\n",
    "            \n",
    "        \n",
    "        loss_record.append(loss.detach())    \n",
    "        #if epoch%10 == 0:\n",
    "        \n",
    "        print(\"  \", epoch,\"/\",epochs, \"epoch mean error is  ------------  \", loss)\n",
    "        \n",
    "        "
   ]
  },
  {
   "cell_type": "code",
   "execution_count": null,
   "metadata": {},
   "outputs": [],
   "source": [
    "batch_loss, loss_sum\n",
    "np.sum(loss_record[-16:-1])/15"
   ]
  },
  {
   "cell_type": "markdown",
   "metadata": {},
   "source": [
    "Why $x$ should be set to zero after each trial?"
   ]
  },
  {
   "cell_type": "code",
   "execution_count": null,
   "metadata": {},
   "outputs": [],
   "source": [
    "for parameter in model.parameters():\n",
    "    print(parameter.size())"
   ]
  },
  {
   "cell_type": "code",
   "execution_count": null,
   "metadata": {},
   "outputs": [],
   "source": [
    "# Playground sketch.\n",
    "\n",
    "abatch = 11\n",
    "\n",
    "am = torch.randn([N,1])\n",
    "an = torch.randn([1,N])\n",
    "aT = 77\n",
    "#torch.matmul(torch.matmul(am,an), torch.tanh(ax)).shape, \n",
    "\n",
    "ax = torch.randn([abatch, N, 1])\n",
    "au = torch.randn([aT, abatch, 1, 1])\n",
    "\n",
    "aw = torch.randn([1, N])\n",
    "aI = torch.randn([N,1])\n",
    "\n",
    "au, ay = generate_data(abatch, aT, stim_strength)\n",
    "\n",
    "(ax+au[61]*aI).shape\n",
    "\n",
    "z = 1/N * torch.matmul(aw, torch.tanh(ax))\n",
    "z.squeeze_().shape, ay[:,72].shape\n"
   ]
  }
 ],
 "metadata": {
  "kernelspec": {
   "display_name": "Python 3",
   "language": "python",
   "name": "python3"
  },
  "language_info": {
   "codemirror_mode": {
    "name": "ipython",
    "version": 3
   },
   "file_extension": ".py",
   "mimetype": "text/x-python",
   "name": "python",
   "nbconvert_exporter": "python",
   "pygments_lexer": "ipython3",
   "version": "3.8.3"
  }
 },
 "nbformat": 4,
 "nbformat_minor": 4
}
