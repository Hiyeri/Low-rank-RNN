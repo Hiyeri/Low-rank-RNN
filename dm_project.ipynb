{
 "cells": [
  {
   "cell_type": "markdown",
   "metadata": {},
   "source": [
    "## Decision making in low-rank recurrent neural networks"
   ]
  },
  {
   "cell_type": "code",
   "execution_count": 1,
   "metadata": {},
   "outputs": [
    {
     "data": {
      "text/plain": [
       "<torch.autograd.anomaly_mode.set_detect_anomaly at 0x26b7c64c3a0>"
      ]
     },
     "execution_count": 1,
     "metadata": {},
     "output_type": "execute_result"
    }
   ],
   "source": [
    "import numpy as np\n",
    "import matplotlib.pyplot as plt\n",
    "import pdb\n",
    "import torch\n",
    "import torch.nn as nn\n",
    "\n",
    "#plt.style.use('dark_background')\n",
    "\n",
    "# For debugging we will use the below inside some functions.\n",
    "torch.autograd.set_detect_anomaly(True)\n",
    "        "
   ]
  },
  {
   "cell_type": "markdown",
   "metadata": {},
   "source": [
    "### Perceptual decision makingg"
   ]
  },
  {
   "cell_type": "markdown",
   "metadata": {},
   "source": [
    "__1. Create a function for generating the data.__"
   ]
  },
  {
   "cell_type": "code",
   "execution_count": 2,
   "metadata": {},
   "outputs": [],
   "source": [
    "# defining standard deviation and strength of stimulus\n",
    "std = 0.03\n",
    "stim_strength = std * np.hstack((-np.flip(2**np.arange(0,5)), 2**np.arange(0,5)))\n"
   ]
  },
  {
   "cell_type": "code",
   "execution_count": 3,
   "metadata": {},
   "outputs": [],
   "source": [
    "\n",
    "def generate_data(trials, length, stim_strength, std = 0.03):\n",
    "    \"\"\"\n",
    "    ksi is a normally distr noise with sigma 0.03.\n",
    "    u is an input\n",
    "    û is the stimulis strength\n",
    "    y is the target, i.e. the sign of û. \n",
    "    y's first dimension is trials and second is length. \n",
    "    \"\"\"\n",
    "    ksi = std * np.random.randn(trials, length)\n",
    "    \n",
    "  \n",
    "    û_value = np.random.choice(stim_strength, trials)\n",
    "    û = np.full_like(ksi, 0)\n",
    "    y = np.full_like(ksi, 1)\n",
    "    for i in range(trials):\n",
    "        û[i, 5:46] = û_value[i]\n",
    "        y[i] = np.sign(û_value[i]) * y[i]\n",
    "    \n",
    "    return  torch.from_numpy(û + ksi), torch.from_numpy(y)\n"
   ]
  },
  {
   "cell_type": "code",
   "execution_count": 4,
   "metadata": {},
   "outputs": [],
   "source": [
    "# generate data\n",
    "\n",
    "T = 80\n",
    "trials = 5\n",
    "u, y = generate_data(trials, T, stim_strength)\n",
    "time = np.arange(0,T)\n"
   ]
  },
  {
   "cell_type": "code",
   "execution_count": 5,
   "metadata": {},
   "outputs": [
    {
     "data": {
      "image/png": "[encoded data removed]",
      "text/plain": [
       "<Figure size 936x216 with 5 Axes>"
      ]
     },
     "metadata": {
      "needs_background": "light"
     },
     "output_type": "display_data"
    }
   ],
   "source": [
    "# plot\n",
    "\n",
    "fig, axs = plt.subplots(1, trials, figsize=(13,3))\n",
    "\n",
    "fig.suptitle(\"Generate Data\")\n",
    "\n",
    "for i in range(trials):\n",
    "    axs[i].plot(time, u[i,:], label=\"stimulus\")\n",
    "    axs[i].plot(time, y[i,:], label=\"target\")\n",
    "    axs[i].set_title(f\"trial {i}\")\n",
    "    axs[i].set_ylim(-1.2, 1.2)\n",
    "axs[0].set_xlabel(\"time\")\n",
    "axs[0].legend()\n",
    "plt.show()"
   ]
  },
  {
   "cell_type": "markdown",
   "metadata": {},
   "source": [
    "__2. Implement the recurrent neural network in your favorite deep learning library.__"
   ]
  },
  {
   "cell_type": "markdown",
   "metadata": {},
   "source": [
    "J matrix has to have two trainable vectors m, and n as parameters."
   ]
  },
  {
   "cell_type": "code",
   "execution_count": null,
   "metadata": {},
   "outputs": [],
   "source": [
    "# TODO: vectorize input and targets and all into batch of time and trials."
   ]
  },
  {
   "cell_type": "code",
   "execution_count": 6,
   "metadata": {},
   "outputs": [],
   "source": [
    "\n",
    "def dynamics(x, u, tau, m,n,I):\n",
    "    J_of_phi_x = 1/len(n)*torch.mv(torch.matmul(m, n), torch.tanh(x.reshape(-1)))\n",
    "    return (1/tau *(-x + J_of_phi_x.reshape(N,1) + u*I.reshape(N,1)))\n"
   ]
  },
  {
   "cell_type": "code",
   "execution_count": 7,
   "metadata": {},
   "outputs": [],
   "source": [
    "\n",
    "class LR_RNN(nn.Module):\n",
    "    # Low-rank recurrent neural network without readout.\n",
    "    def __init__(self, N):\n",
    "        super().__init__()\n",
    "        # storign info\n",
    "        self.N = N\n",
    "        \n",
    "        # pattern from witch connectivity is made\n",
    "        tensor_m = torch.randn(N).reshape(N,1)\n",
    "        self.m = nn.Parameter(tensor_m)\n",
    "        \n",
    "        # pattern to which connectivity is made\n",
    "        tensor_n = torch.randn(N).reshape(1,N)\n",
    "        self.n = nn.Parameter(tensor_n)\n",
    "        \n",
    "        # input weights\n",
    "        self.I = torch.randn(N)\n",
    "        \n",
    "        # Output is defined separetly in different class below.\n",
    "\n",
    "          \n",
    "    def forward(self, x, u, tau, dt):\n",
    "        # It's an Euler method.\n",
    "        return x + dynamics(x, u, tau, self.m, self.n, self.I) * dt\n",
    "   "
   ]
  },
  {
   "cell_type": "code",
   "execution_count": 15,
   "metadata": {},
   "outputs": [],
   "source": [
    "class Model(nn.Module):\n",
    "    def __init__(self, N):\n",
    "        super().__init__()\n",
    "        # storing info\n",
    "        self.N = N\n",
    "        \n",
    "        # the layer\n",
    "        \n",
    "        self.lr_rnn = LR_RNN(N)\n",
    "        \n",
    "        # output layer\n",
    "        std_dev = 4\n",
    "        self.w = std_dev*torch.randn(N).reshape(1, N)\n",
    "        \n",
    "\n",
    "    \n",
    "    def forward(self, x: torch.Tensor, u, tau, dt):\n",
    "        \n",
    "        \"\"\"\n",
    "        Going forward with the low rank rnn and input.\n",
    "        Reading through electrode weights.\n",
    "        \"\"\"\n",
    "        x = self.lr_rnn(x, u, tau, dt)\n",
    "\n",
    "        torch.autograd.set_detect_anomaly(True)\n",
    "        \n",
    "        z = 1/self.N * torch.matmul(self.w, torch.tanh(x))\n",
    "        return x, z\n",
    "        "
   ]
  },
  {
   "cell_type": "code",
   "execution_count": 19,
   "metadata": {},
   "outputs": [],
   "source": [
    "# Initialize.\n",
    "\n",
    "N = 64\n",
    "x = torch.zeros([N,1])\n",
    "tau = 0.1  # seconds\n",
    "dt = 0.02  # seconds\n",
    "\n",
    "\n",
    "# generate data\n",
    "T = 75\n",
    "time = np.arange(0,T)\n",
    "trials = 8\n",
    "u, y = generate_data(trials, T, stim_strength)\n",
    "model = Model(N)"
   ]
  },
  {
   "cell_type": "code",
   "execution_count": 21,
   "metadata": {},
   "outputs": [
    {
     "name": "stdout",
     "output_type": "stream",
     "text": [
      "tensor(1.0097, grad_fn=<MseLossBackward>)\n",
      "tensor(1.0078, grad_fn=<MseLossBackward>)\n",
      "tensor(1.0061, grad_fn=<MseLossBackward>)\n",
      "tensor(1.0046, grad_fn=<MseLossBackward>)\n",
      "tensor(1.0032, grad_fn=<MseLossBackward>)\n",
      "tensor(1.0021, grad_fn=<MseLossBackward>)\n",
      "tensor(1.0011, grad_fn=<MseLossBackward>)\n",
      "tensor(1.0004, grad_fn=<MseLossBackward>)\n",
      "tensor(0.9998, grad_fn=<MseLossBackward>)\n",
      "tensor(0.9995, grad_fn=<MseLossBackward>)\n",
      "tensor(0.9997, grad_fn=<MseLossBackward>)\n",
      "tensor(0.9997, grad_fn=<MseLossBackward>)\n",
      "tensor(0.9997, grad_fn=<MseLossBackward>)\n",
      "tensor(0.9997, grad_fn=<MseLossBackward>)\n",
      "tensor(0.9997, grad_fn=<MseLossBackward>)\n",
      "tensor(0.9997, grad_fn=<MseLossBackward>)\n",
      "tensor(0.9997, grad_fn=<MseLossBackward>)\n",
      "tensor(0.9997, grad_fn=<MseLossBackward>)\n",
      "tensor(0.9997, grad_fn=<MseLossBackward>)\n",
      "tensor(0.9997, grad_fn=<MseLossBackward>)\n",
      "tensor(0.9997, grad_fn=<MseLossBackward>)\n",
      "tensor(0.9997, grad_fn=<MseLossBackward>)\n",
      "tensor(0.9997, grad_fn=<MseLossBackward>)\n",
      "tensor(0.9997, grad_fn=<MseLossBackward>)\n",
      "tensor(0.9997, grad_fn=<MseLossBackward>)\n",
      "tensor(0.9997, grad_fn=<MseLossBackward>)\n",
      "tensor(0.9997, grad_fn=<MseLossBackward>)\n",
      "tensor(0.9997, grad_fn=<MseLossBackward>)\n",
      "tensor(0.9997, grad_fn=<MseLossBackward>)\n",
      "tensor(0.9997, grad_fn=<MseLossBackward>)\n",
      "tensor(0.9997, grad_fn=<MseLossBackward>)\n",
      "tensor(0.9997, grad_fn=<MseLossBackward>)\n",
      "epoch  0 ------------  trial mean error\n"
     ]
    }
   ],
   "source": [
    "\"\"\"\n",
    "Training:\n",
    "\n",
    "Backprop is called after computing the error on the whole batch.\n",
    "\n",
    "\"\"\"\n",
    "\n",
    "epochs = 1\n",
    "error_record = []\n",
    "mse_loss = nn.MSELoss(reduction='mean')\n",
    "optimizer = torch.optim.Adam(model.parameters(), lr = 0.005)\n",
    "\n",
    "for epoch in range(epochs):\n",
    "    for batch in range(32):\n",
    "\n",
    "        z_trials = torch.zeros([trials, 15])\n",
    "        target = torch.zeros([trials, 15])\n",
    "\n",
    "        for trial_nr in range(trials):\n",
    "            trial_error = []\n",
    "            x = torch.zeros([model.N,1])\n",
    "            for t in range(T-15):\n",
    "\n",
    "                x = model.lr_rnn.forward(x, u[0, t], tau, dt)\n",
    "\n",
    "            for k in range(15):\n",
    "\n",
    "                # Initializations.\n",
    "                t= T-15+k        \n",
    "\n",
    "                # Computation and storage of results.\n",
    "                \n",
    "                x, z = model.forward(x, u[0, t], tau, dt)\n",
    "                z.squeeze_()\n",
    "                z_trials[trial_nr, k] = z.float()\n",
    "                target[trial_nr, k] = y[trial_nr, T-15+k].float()\n",
    "\n",
    "                \n",
    "        # use the error or mse.\n",
    "        loss = mse_loss(z_trials, target)\n",
    "\n",
    "        optimizer.zero_grad()  # Reset the gradient values.\n",
    "\n",
    "        loss.backward()  # Compute the gradients.\n",
    "\n",
    "        optimizer.step()  # Parameters update.\n",
    "\n",
    "        \n",
    "        x = x.detach()  # Free from the past??\n",
    "\n",
    "\n",
    "        error_record.append(loss.clone().detach())\n",
    "        print(loss)\n",
    "\n",
    "    print(\"epoch \", epoch,\"------------\", \" trial mean error\")"
   ]
  },
  {
   "cell_type": "markdown",
   "metadata": {},
   "source": [
    "Why $x$ should be set to zero after each trial?"
   ]
  },
  {
   "cell_type": "code",
   "execution_count": 22,
   "metadata": {},
   "outputs": [
    {
     "name": "stdout",
     "output_type": "stream",
     "text": [
      "torch.Size([64, 1])\n",
      "torch.Size([1, 64])\n"
     ]
    }
   ],
   "source": [
    "for parameter in model.parameters():\n",
    "    print(parameter.size())"
   ]
  },
  {
   "cell_type": "code",
   "execution_count": null,
   "metadata": {},
   "outputs": [],
   "source": []
  }
 ],
 "metadata": {
  "kernelspec": {
   "display_name": "Python 3",
   "language": "python",
   "name": "python3"
  },
  "language_info": {
   "codemirror_mode": {
    "name": "ipython",
    "version": 3
   },
   "file_extension": ".py",
   "mimetype": "text/x-python",
   "name": "python",
   "nbconvert_exporter": "python",
   "pygments_lexer": "ipython3",
   "version": "3.8.3"
  }
 },
 "nbformat": 4,
 "nbformat_minor": 4
}
