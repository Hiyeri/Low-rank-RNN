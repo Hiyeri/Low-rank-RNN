{
 "cells": [
  {
   "cell_type": "markdown",
   "metadata": {},
   "source": [
    "## Decision making in low-rank recurrent neural networks"
   ]
  },
  {
   "cell_type": "code",
   "execution_count": 12,
   "metadata": {},
   "outputs": [],
   "source": [
    "import numpy as np\n",
    "import matplotlib.pyplot as plt\n",
    "import pdb\n",
    "import torch\n",
    "import torch.nn as nn\n",
    "\n",
    "#plt.style.use('dark_background')\n",
    "\n",
    "# For debugging we will use the below inside some functions.\n",
    "#torch.autograd.set_detect_anomaly(True)\n",
    "        "
   ]
  },
  {
   "cell_type": "markdown",
   "metadata": {},
   "source": [
    "### Perceptual decision makingg"
   ]
  },
  {
   "cell_type": "markdown",
   "metadata": {},
   "source": [
    "__1. Create a function for generating the data.__"
   ]
  },
  {
   "cell_type": "code",
   "execution_count": 13,
   "metadata": {},
   "outputs": [],
   "source": [
    "# defining standard deviation and strength of stimulus\n",
    "strength = 0.032\n",
    "stim_strength = strength * np.hstack((-np.flip(2**np.arange(0,5)), 2**np.arange(0,5)))\n"
   ]
  },
  {
   "cell_type": "code",
   "execution_count": 14,
   "metadata": {},
   "outputs": [],
   "source": [
    "# TODO: check the dimensions needed for the target y.\n",
    "\n",
    "\n",
    "def generate_data(time_length, trials, stim_strength, std = 0.03):\n",
    "    \"\"\"\n",
    "    ksi is a normally distr noise with sigma 0.03.\n",
    "    u is an input\n",
    "    û is the stimulis strength\n",
    "    y is the target, i.e. the strength of the signal (instead of the sign of û, as in the sheet). \n",
    "    y's zeroth dimension is trials. \n",
    "    \"\"\"\n",
    "    ksi = std * np.random.randn(time_length, trials)\n",
    "    \n",
    "  \n",
    "    û_value = np.random.choice(stim_strength, size=trials)\n",
    "    û = np.full_like(ksi, 0)\n",
    "    y = np.full_like(trials, 1)\n",
    "    for i in range(trials):  # vectorize it??\n",
    "        û[5:46, i] = û_value[i]\n",
    "        y = û_value\n",
    "    \n",
    "    return  torch.from_numpy(û + ksi).reshape([time_length, trials, 1, 1]), torch.from_numpy(y)\n"
   ]
  },
  {
   "cell_type": "code",
   "execution_count": 15,
   "metadata": {},
   "outputs": [],
   "source": [
    "# generate data\n",
    "\n",
    "T = 75\n",
    "trials = 8\n",
    "u, y = generate_data(T, trials, stim_strength)\n",
    "time = np.arange(0,T)\n"
   ]
  },
  {
   "cell_type": "code",
   "execution_count": 16,
   "metadata": {},
   "outputs": [
    {
     "data": {
      "text/plain": [
       "tensor(0.5120, dtype=torch.float64)"
      ]
     },
     "execution_count": 16,
     "metadata": {},
     "output_type": "execute_result"
    }
   ],
   "source": [
    "u.shape, y.shape\n",
    "y[2]"
   ]
  },
  {
   "cell_type": "code",
   "execution_count": 17,
   "metadata": {},
   "outputs": [
    {
     "data": {
      "image/png": "[encoded data removed]",
      "text/plain": [
       "<Figure size 1080x144 with 8 Axes>"
      ]
     },
     "metadata": {
      "needs_background": "light"
     },
     "output_type": "display_data"
    }
   ],
   "source": [
    "# plot\n",
    "\n",
    "fig, axs = plt.subplots(1, trials, figsize=(15,2))\n",
    "\n",
    "fig.suptitle(\"Generate Data\")\n",
    "\n",
    "for i in range(trials):\n",
    "    axs[i].plot(time, u[:, i, 0, 0], label=\"stimulus\")\n",
    "    axs[i].plot(time, y[i]*np.full_like(time,1), label=\"target\")\n",
    "    axs[i].set_title(f\"trial {i}\")\n",
    "    axs[i].set_ylim(-1.2, 1.2)\n",
    "axs[0].set_xlabel(\"time\")\n",
    "axs[0].set_ylabel(\"signal strength\")\n",
    "axs[0].legend()\n",
    "plt.show()"
   ]
  },
  {
   "cell_type": "markdown",
   "metadata": {},
   "source": [
    "__2. Implement the recurrent neural network in your favorite deep learning library.__"
   ]
  },
  {
   "cell_type": "markdown",
   "metadata": {},
   "source": [
    "J matrix has to have two trainable vectors m, and n as parameters."
   ]
  },
  {
   "cell_type": "code",
   "execution_count": 18,
   "metadata": {},
   "outputs": [],
   "source": [
    "\n",
    "\n",
    "def dynamics(x, u_of_t, tau, m,n,I):\n",
    "    J_of_phi_x = torch.div(torch.matmul(torch.matmul(m, n).float(), torch.tanh(x).float()), len(n))\n",
    "\n",
    "    return (-x + J_of_phi_x + u_of_t*I) / tau\n"
   ]
  },
  {
   "cell_type": "code",
   "execution_count": 19,
   "metadata": {},
   "outputs": [],
   "source": [
    "\n",
    "class LR_RNN(nn.Module):\n",
    "    # Low-rank recurrent neural network without readout.\n",
    "    def __init__(self, N):\n",
    "        super().__init__()\n",
    "        \n",
    "        # storign info\n",
    "        self.N = N\n",
    "        \n",
    "        # pattern from witch connectivity is made\n",
    "        tensor_m = torch.randn([N,1])\n",
    "        self.m = nn.Parameter(tensor_m)\n",
    "        \n",
    "        # pattern to which connectivity is made\n",
    "        tensor_n = torch.randn([1,N])\n",
    "        self.n = nn.Parameter(tensor_n)\n",
    "        \n",
    "        # input weights\n",
    "        self.I = torch.randn([N,1])\n",
    "        \n",
    "        # Output is defined separetly in different class below.\n",
    "\n",
    "          \n",
    "    def forward(self, x, u_of_t, tau, dt):\n",
    "        # It's an Euler method.\n",
    "        torch.autograd.set_detect_anomaly(True)\n",
    "        \n",
    "        return x +  dt * dynamics(x, u_of_t, tau, self.m, self.n, self.I)\n",
    "   "
   ]
  },
  {
   "cell_type": "code",
   "execution_count": 20,
   "metadata": {},
   "outputs": [
    {
     "name": "stdout",
     "output_type": "stream",
     "text": [
      "Ratio is  20.0 ms/step, while tau in steps is  5.0  and time increment in dynamics is  1.0\n"
     ]
    }
   ],
   "source": [
    "ratio = 1500/75 #ms/step\n",
    "tau_steps = 100 /ratio #ms/(ms/step)\n",
    "dt = 20 /ratio\n",
    "\n",
    "print(\"Ratio is \", ratio, \"ms/step, while tau in steps is \", tau_steps, \" and time increment in dynamics is \", dt)"
   ]
  },
  {
   "cell_type": "code",
   "execution_count": 21,
   "metadata": {},
   "outputs": [],
   "source": [
    "class Model(nn.Module):\n",
    "    def __init__(self, N):\n",
    "        super().__init__()\n",
    "        # storing info\n",
    "        self.N = N\n",
    "        \n",
    "        # the layer\n",
    "        self.lr_rnn = LR_RNN(N)\n",
    "        \n",
    "        # output layer\n",
    "        std_dev = 4\n",
    "        self.w = std_dev*torch.randn([1, N])\n",
    "        \n",
    "\n",
    "    \n",
    "    def forward(self, x: torch.Tensor, u_of_t, tau, dt):\n",
    "        \n",
    "        \"\"\"\n",
    "        Going forward with the low rank rnn and input.\n",
    "        Reading through electrode weights.\n",
    "        \"\"\"\n",
    "        x_next = self.lr_rnn(x, u_of_t, tau, dt)\n",
    "\n",
    "        torch.autograd.set_detect_anomaly(True)\n",
    "        \n",
    "        z = 1/self.N * torch.matmul(self.w.float(), torch.tanh(x_next).float())\n",
    "        z.squeeze_()\n",
    "        return x_next, z\n",
    "        "
   ]
  },
  {
   "cell_type": "code",
   "execution_count": 22,
   "metadata": {},
   "outputs": [
    {
     "ename": "NameError",
     "evalue": "name 'model' is not defined",
     "output_type": "error",
     "traceback": [
      "\u001b[1;31m---------------------------------------------------------------------------\u001b[0m",
      "\u001b[1;31mNameError\u001b[0m                                 Traceback (most recent call last)",
      "\u001b[1;32m<ipython-input-22-5f61d93fadcb>\u001b[0m in \u001b[0;36m<module>\u001b[1;34m\u001b[0m\n\u001b[1;32m----> 1\u001b[1;33m \u001b[0mmodel\u001b[0m\u001b[1;33m.\u001b[0m\u001b[0mw\u001b[0m \u001b[1;33m=\u001b[0m \u001b[0mnn\u001b[0m\u001b[1;33m.\u001b[0m\u001b[0mParameter\u001b[0m\u001b[1;33m(\u001b[0m\u001b[0mmodel\u001b[0m\u001b[1;33m.\u001b[0m\u001b[0mw\u001b[0m\u001b[1;33m)\u001b[0m\u001b[1;33m\u001b[0m\u001b[1;33m\u001b[0m\u001b[0m\n\u001b[0m\u001b[0;32m      2\u001b[0m \u001b[0mmodel\u001b[0m\u001b[1;33m.\u001b[0m\u001b[0mlr_rnn\u001b[0m\u001b[1;33m.\u001b[0m\u001b[0mI\u001b[0m \u001b[1;33m=\u001b[0m \u001b[0mnn\u001b[0m\u001b[1;33m.\u001b[0m\u001b[0mParameter\u001b[0m\u001b[1;33m(\u001b[0m\u001b[0mmodel\u001b[0m\u001b[1;33m.\u001b[0m\u001b[0mlr_rnn\u001b[0m\u001b[1;33m.\u001b[0m\u001b[0mI\u001b[0m\u001b[1;33m)\u001b[0m\u001b[1;33m\u001b[0m\u001b[1;33m\u001b[0m\u001b[0m\n",
      "\u001b[1;31mNameError\u001b[0m: name 'model' is not defined"
     ]
    }
   ],
   "source": [
    "model.w = nn.Parameter(model.w)\n",
    "model.lr_rnn.I = nn.Parameter(model.lr_rnn.I)"
   ]
  },
  {
   "cell_type": "code",
   "execution_count": null,
   "metadata": {},
   "outputs": [],
   "source": [
    "# TODO: check dimensions for multiplication self.w with tanh(x)"
   ]
  },
  {
   "cell_type": "code",
   "execution_count": null,
   "metadata": {},
   "outputs": [],
   "source": [
    "# Initialize.\n",
    "\n",
    "N = 128\n",
    "\n",
    "model = Model(N)\n",
    "\n"
   ]
  },
  {
   "cell_type": "code",
   "execution_count": null,
   "metadata": {},
   "outputs": [],
   "source": [
    "ratio = 1500/75 #ms/step\n",
    "tau = 100 /ratio #ms/(ms/step)\n",
    "dt = 20 /ratio\n",
    "\n",
    "print(\"Ratio is \", ratio, \"ms/step, while tau in steps is \", tau, \" and time increment in dynamics is \", dt)"
   ]
  },
  {
   "cell_type": "code",
   "execution_count": null,
   "metadata": {},
   "outputs": [],
   "source": [
    "# Generate the data.\n",
    "\n",
    "T = 75\n",
    "read_onset = 15  # how many last steps are read\n",
    "time = np.arange(0,T)\n"
   ]
  },
  {
   "cell_type": "code",
   "execution_count": null,
   "metadata": {},
   "outputs": [],
   "source": [
    "accuracy = []\n",
    "losses_rec = []\n",
    "\n",
    "x_example_rec = []  # TODO"
   ]
  },
  {
   "cell_type": "code",
   "execution_count": null,
   "metadata": {},
   "outputs": [],
   "source": [
    "# You can change trials number (batch size) between training sessions.\n",
    "trials = 128    # Mini-batch size, minimum value is 2 (probably because of squeezing and broadcasting).\n",
    "x = torch.zeros([trials,N,1])\n",
    "\n",
    "u, y = generate_data(T, trials, stim_strength)"
   ]
  },
  {
   "cell_type": "code",
   "execution_count": null,
   "metadata": {},
   "outputs": [],
   "source": [
    "\"\"\"\n",
    "Training:\n",
    "\n",
    "From the readout onset the network is unrolled \n",
    "\n",
    "and the backpropagation goes back in time until the beginning of the readout.\n",
    "\n",
    "Backprop is called after computing the error on the whole batch.\n",
    "\n",
    "\n",
    "\"\"\"\n",
    "\n",
    "# Todo: store the dynamics of the one neuron through the 75 time steps\n",
    "\n",
    "epochs = 50\n",
    "\n",
    "mse_loss = nn.MSELoss(reduction='mean')\n",
    "optimizer = torch.optim.Adam(model.parameters(), lr = 0.005)\n",
    "\n",
    "\n",
    "for epoch in range(epochs):\n",
    "\n",
    "        if epoch%100 ==0:\n",
    "            u, y = generate_data(T, trials, stim_strength)\n",
    "            \n",
    "            \n",
    "            \n",
    "        x = [None]*(read_onset+1)\n",
    "        x[0] = torch.zeros([trials, model.N, 1])\n",
    "        \n",
    "        \n",
    "        \n",
    "        for t in range(T-read_onset):\n",
    "            \n",
    "            # Override x zero.\n",
    "            x[0] = model.lr_rnn.forward(x[0], u[t], tau, dt)\n",
    "            \n",
    "        x[0].detach_()\n",
    " \n",
    "        # Option 0\n",
    "        z = torch.zeros(read_onset, trials)       \n",
    "        \n",
    "        for k in range(read_onset):\n",
    "\n",
    "            # Initialization.\n",
    "            t = T - read_onset + k        \n",
    "            \n",
    "            # Computation of the hidden layer and the readout, roll-out.                \n",
    "            x[k+1], z[k] = model.forward(x[k], u[t], tau, dt)\n",
    "\n",
    "\n",
    "            # Option 1\n",
    "            # use the error or mse.\n",
    "            #loss[k] = mse_loss(z, y.float())\n",
    "            \n",
    "            \n",
    "            \n",
    "        optimizer.zero_grad()  # Reset the gradient values.\n",
    "\n",
    "        #losses = torch.sum(loss) / read_onset\n",
    "        losses = mse_loss(z, y.float())\n",
    "        \n",
    "\n",
    "        if (losses < 0.1 or epoch%100 == 90):\n",
    "            y = torch.sign(y)\n",
    "        \n",
    "        if (y != 1).all() and losses<0.05:\n",
    "            break\n",
    "        \n",
    "        losses.backward()  # Compute the gradients.\n",
    "\n",
    "        optimizer.step()  # Parameters update.\n",
    "        \n",
    "        #if epoch%1 == 0:\n",
    "        print(\"  \", epoch,\"/\",epochs, \"epoch mean error is  ------------  \", losses)\n",
    "        losses_rec.append(losses.detach())\n",
    "        losses.detach()\n",
    "        z.detach()\n",
    "        "
   ]
  },
  {
   "cell_type": "code",
   "execution_count": null,
   "metadata": {},
   "outputs": [],
   "source": [
    "# torch.save??\n",
    "\"\"\"\n",
    "import csv\n",
    "dictionary = {'I': model.lr_rnn.I, 'w': model.w, \"n\":model.lr_rnn.n, \"m\":model.lr_rnn.m}\n",
    "w = csv.writer(open(\"output.csv\", \"w\"))\n",
    "for key, val in dictionary.items():\n",
    "    w.writerow([key, val])\n",
    "\"\"\""
   ]
  },
  {
   "cell_type": "markdown",
   "metadata": {},
   "source": [
    "# 3 Networks input, output and hidden dynamics"
   ]
  },
  {
   "cell_type": "code",
   "execution_count": null,
   "metadata": {},
   "outputs": [],
   "source": [
    "# A hidden neuron dynamics.\n",
    "x_view = torch.zeros(read_onset,128)\n",
    "for i in range(read_onset):\n",
    "    for k in range(128):\n",
    "        x_view[i,k] = x[i].detach().numpy()[0,k,0]  # time; trials, neuron, squeezable dimension\n",
    "        \n",
    "plt.plot(x_view[:,:12])\n",
    "plt.show()"
   ]
  },
  {
   "cell_type": "markdown",
   "metadata": {},
   "source": [
    "Why $x$ should be set to zero after each trial?"
   ]
  },
  {
   "cell_type": "code",
   "execution_count": null,
   "metadata": {},
   "outputs": [],
   "source": [
    "signs_match = np.sign(z.detach().numpy()[-1]*y.detach().numpy())"
   ]
  },
  {
   "cell_type": "code",
   "execution_count": null,
   "metadata": {},
   "outputs": [],
   "source": [
    "\n",
    "accuracy.append( np.sum(signs_match[signs_match==1])/len(signs_match))\n",
    "accuracy"
   ]
  },
  {
   "cell_type": "code",
   "execution_count": null,
   "metadata": {},
   "outputs": [],
   "source": [
    "(losses_rec)"
   ]
  },
  {
   "cell_type": "code",
   "execution_count": null,
   "metadata": {},
   "outputs": [],
   "source": [
    "for parameter in model.parameters():\n",
    "    print(parameter.size())"
   ]
  },
  {
   "cell_type": "markdown",
   "metadata": {},
   "source": [
    "# 4"
   ]
  },
  {
   "cell_type": "code",
   "execution_count": null,
   "metadata": {},
   "outputs": [],
   "source": [
    "m = model.lr_rnn.m.detach().reshape(N)\n",
    "n = model.lr_rnn.n.detach().reshape(N)\n",
    "I = model.lr_rnn.I.detach().reshape(N)\n",
    "w = model.w.detach().reshape(N)\n",
    "\n",
    "loadings = [m,n,I,w]\n",
    "for vector in loadings:\n",
    "    vector = vector.numpy()\n",
    "cov = np.cov(np.vstack(loadings))#np.array([n,m,w,I]))\n",
    "plt.imshow(cov)"
   ]
  }
 ],
 "metadata": {
  "kernelspec": {
   "display_name": "Python 3",
   "language": "python",
   "name": "python3"
  },
  "language_info": {
   "codemirror_mode": {
    "name": "ipython",
    "version": 3
   },
   "file_extension": ".py",
   "mimetype": "text/x-python",
   "name": "python",
   "nbconvert_exporter": "python",
   "pygments_lexer": "ipython3",
   "version": "3.8.3"
  }
 },
 "nbformat": 4,
 "nbformat_minor": 4
}
